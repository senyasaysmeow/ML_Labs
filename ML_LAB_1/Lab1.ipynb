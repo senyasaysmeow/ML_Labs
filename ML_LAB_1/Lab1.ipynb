{
 "cells": [
  {
   "cell_type": "code",
   "execution_count": 1,
   "id": "initial_id",
   "metadata": {
    "ExecuteTime": {
     "end_time": "2025-02-25T12:43:17.018715Z",
     "start_time": "2025-02-25T12:43:17.016428Z"
    }
   },
   "outputs": [],
   "source": [
    "import pandas as pd\n",
    "import numpy as np\n",
    "import matplotlib.pyplot as plt\n",
    "import seaborn as sns"
   ]
  },
  {
   "cell_type": "code",
   "execution_count": 2,
   "id": "3e7bf8aca80880bf",
   "metadata": {
    "ExecuteTime": {
     "end_time": "2025-02-25T12:43:17.038958Z",
     "start_time": "2025-02-25T12:43:17.032264Z"
    }
   },
   "outputs": [],
   "source": [
    "df = pd.read_csv('survey.csv')"
   ]
  },
  {
   "cell_type": "code",
   "execution_count": 3,
   "id": "a0b907bd77ce3b80",
   "metadata": {
    "ExecuteTime": {
     "end_time": "2025-02-25T12:43:17.051943Z",
     "start_time": "2025-02-25T12:43:17.042958Z"
    }
   },
   "outputs": [
    {
     "data": {
      "text/html": [
       "<div>\n",
       "<style scoped>\n",
       "    .dataframe tbody tr th:only-of-type {\n",
       "        vertical-align: middle;\n",
       "    }\n",
       "\n",
       "    .dataframe tbody tr th {\n",
       "        vertical-align: top;\n",
       "    }\n",
       "\n",
       "    .dataframe thead th {\n",
       "        text-align: right;\n",
       "    }\n",
       "</style>\n",
       "<table border=\"1\" class=\"dataframe\">\n",
       "  <thead>\n",
       "    <tr style=\"text-align: right;\">\n",
       "      <th></th>\n",
       "      <th>Timestamp</th>\n",
       "      <th>Age</th>\n",
       "      <th>Primary streaming service</th>\n",
       "      <th>Hours per day</th>\n",
       "      <th>While working</th>\n",
       "      <th>Instrumentalist</th>\n",
       "      <th>Composer</th>\n",
       "      <th>Fav genre</th>\n",
       "      <th>Exploratory</th>\n",
       "      <th>Foreign languages</th>\n",
       "      <th>...</th>\n",
       "      <th>Frequency [R&amp;B]</th>\n",
       "      <th>Frequency [Rap]</th>\n",
       "      <th>Frequency [Rock]</th>\n",
       "      <th>Frequency [Video game music]</th>\n",
       "      <th>Anxiety</th>\n",
       "      <th>Depression</th>\n",
       "      <th>Insomnia</th>\n",
       "      <th>OCD</th>\n",
       "      <th>Music effects</th>\n",
       "      <th>Permissions</th>\n",
       "    </tr>\n",
       "  </thead>\n",
       "  <tbody>\n",
       "    <tr>\n",
       "      <th>0</th>\n",
       "      <td>8/27/2022 19:29:02</td>\n",
       "      <td>18.0</td>\n",
       "      <td>Spotify</td>\n",
       "      <td>3.0</td>\n",
       "      <td>Yes</td>\n",
       "      <td>Yes</td>\n",
       "      <td>Yes</td>\n",
       "      <td>Latin</td>\n",
       "      <td>Yes</td>\n",
       "      <td>Yes</td>\n",
       "      <td>...</td>\n",
       "      <td>Sometimes</td>\n",
       "      <td>Very frequently</td>\n",
       "      <td>Never</td>\n",
       "      <td>Sometimes</td>\n",
       "      <td>3.0</td>\n",
       "      <td>0.0</td>\n",
       "      <td>1.0</td>\n",
       "      <td>0.0</td>\n",
       "      <td>NaN</td>\n",
       "      <td>I understand.</td>\n",
       "    </tr>\n",
       "    <tr>\n",
       "      <th>1</th>\n",
       "      <td>8/27/2022 19:57:31</td>\n",
       "      <td>63.0</td>\n",
       "      <td>Pandora</td>\n",
       "      <td>1.5</td>\n",
       "      <td>Yes</td>\n",
       "      <td>No</td>\n",
       "      <td>No</td>\n",
       "      <td>Rock</td>\n",
       "      <td>Yes</td>\n",
       "      <td>No</td>\n",
       "      <td>...</td>\n",
       "      <td>Sometimes</td>\n",
       "      <td>Rarely</td>\n",
       "      <td>Very frequently</td>\n",
       "      <td>Rarely</td>\n",
       "      <td>7.0</td>\n",
       "      <td>2.0</td>\n",
       "      <td>2.0</td>\n",
       "      <td>1.0</td>\n",
       "      <td>NaN</td>\n",
       "      <td>I understand.</td>\n",
       "    </tr>\n",
       "    <tr>\n",
       "      <th>2</th>\n",
       "      <td>8/27/2022 21:28:18</td>\n",
       "      <td>18.0</td>\n",
       "      <td>Spotify</td>\n",
       "      <td>4.0</td>\n",
       "      <td>No</td>\n",
       "      <td>No</td>\n",
       "      <td>No</td>\n",
       "      <td>Video game music</td>\n",
       "      <td>No</td>\n",
       "      <td>Yes</td>\n",
       "      <td>...</td>\n",
       "      <td>Never</td>\n",
       "      <td>Rarely</td>\n",
       "      <td>Rarely</td>\n",
       "      <td>Very frequently</td>\n",
       "      <td>7.0</td>\n",
       "      <td>7.0</td>\n",
       "      <td>10.0</td>\n",
       "      <td>2.0</td>\n",
       "      <td>No effect</td>\n",
       "      <td>I understand.</td>\n",
       "    </tr>\n",
       "    <tr>\n",
       "      <th>3</th>\n",
       "      <td>8/27/2022 21:40:40</td>\n",
       "      <td>61.0</td>\n",
       "      <td>YouTube Music</td>\n",
       "      <td>2.5</td>\n",
       "      <td>Yes</td>\n",
       "      <td>No</td>\n",
       "      <td>Yes</td>\n",
       "      <td>Jazz</td>\n",
       "      <td>Yes</td>\n",
       "      <td>Yes</td>\n",
       "      <td>...</td>\n",
       "      <td>Sometimes</td>\n",
       "      <td>Never</td>\n",
       "      <td>Never</td>\n",
       "      <td>Never</td>\n",
       "      <td>9.0</td>\n",
       "      <td>7.0</td>\n",
       "      <td>3.0</td>\n",
       "      <td>3.0</td>\n",
       "      <td>Improve</td>\n",
       "      <td>I understand.</td>\n",
       "    </tr>\n",
       "    <tr>\n",
       "      <th>4</th>\n",
       "      <td>8/27/2022 21:54:47</td>\n",
       "      <td>18.0</td>\n",
       "      <td>Spotify</td>\n",
       "      <td>4.0</td>\n",
       "      <td>Yes</td>\n",
       "      <td>No</td>\n",
       "      <td>No</td>\n",
       "      <td>R&amp;B</td>\n",
       "      <td>Yes</td>\n",
       "      <td>No</td>\n",
       "      <td>...</td>\n",
       "      <td>Very frequently</td>\n",
       "      <td>Very frequently</td>\n",
       "      <td>Never</td>\n",
       "      <td>Rarely</td>\n",
       "      <td>7.0</td>\n",
       "      <td>2.0</td>\n",
       "      <td>5.0</td>\n",
       "      <td>9.0</td>\n",
       "      <td>Improve</td>\n",
       "      <td>I understand.</td>\n",
       "    </tr>\n",
       "    <tr>\n",
       "      <th>...</th>\n",
       "      <td>...</td>\n",
       "      <td>...</td>\n",
       "      <td>...</td>\n",
       "      <td>...</td>\n",
       "      <td>...</td>\n",
       "      <td>...</td>\n",
       "      <td>...</td>\n",
       "      <td>...</td>\n",
       "      <td>...</td>\n",
       "      <td>...</td>\n",
       "      <td>...</td>\n",
       "      <td>...</td>\n",
       "      <td>...</td>\n",
       "      <td>...</td>\n",
       "      <td>...</td>\n",
       "      <td>...</td>\n",
       "      <td>...</td>\n",
       "      <td>...</td>\n",
       "      <td>...</td>\n",
       "      <td>...</td>\n",
       "      <td>...</td>\n",
       "    </tr>\n",
       "    <tr>\n",
       "      <th>731</th>\n",
       "      <td>10/30/2022 14:37:28</td>\n",
       "      <td>17.0</td>\n",
       "      <td>Spotify</td>\n",
       "      <td>2.0</td>\n",
       "      <td>Yes</td>\n",
       "      <td>Yes</td>\n",
       "      <td>No</td>\n",
       "      <td>Rock</td>\n",
       "      <td>Yes</td>\n",
       "      <td>Yes</td>\n",
       "      <td>...</td>\n",
       "      <td>Never</td>\n",
       "      <td>Rarely</td>\n",
       "      <td>Very frequently</td>\n",
       "      <td>Never</td>\n",
       "      <td>7.0</td>\n",
       "      <td>6.0</td>\n",
       "      <td>0.0</td>\n",
       "      <td>9.0</td>\n",
       "      <td>Improve</td>\n",
       "      <td>I understand.</td>\n",
       "    </tr>\n",
       "    <tr>\n",
       "      <th>732</th>\n",
       "      <td>11/1/2022 22:26:42</td>\n",
       "      <td>18.0</td>\n",
       "      <td>Spotify</td>\n",
       "      <td>1.0</td>\n",
       "      <td>Yes</td>\n",
       "      <td>Yes</td>\n",
       "      <td>No</td>\n",
       "      <td>Pop</td>\n",
       "      <td>Yes</td>\n",
       "      <td>Yes</td>\n",
       "      <td>...</td>\n",
       "      <td>Never</td>\n",
       "      <td>Never</td>\n",
       "      <td>Sometimes</td>\n",
       "      <td>Sometimes</td>\n",
       "      <td>3.0</td>\n",
       "      <td>2.0</td>\n",
       "      <td>2.0</td>\n",
       "      <td>5.0</td>\n",
       "      <td>Improve</td>\n",
       "      <td>I understand.</td>\n",
       "    </tr>\n",
       "    <tr>\n",
       "      <th>733</th>\n",
       "      <td>11/3/2022 23:24:38</td>\n",
       "      <td>19.0</td>\n",
       "      <td>Other streaming service</td>\n",
       "      <td>6.0</td>\n",
       "      <td>Yes</td>\n",
       "      <td>No</td>\n",
       "      <td>Yes</td>\n",
       "      <td>Rap</td>\n",
       "      <td>Yes</td>\n",
       "      <td>No</td>\n",
       "      <td>...</td>\n",
       "      <td>Sometimes</td>\n",
       "      <td>Sometimes</td>\n",
       "      <td>Rarely</td>\n",
       "      <td>Rarely</td>\n",
       "      <td>2.0</td>\n",
       "      <td>2.0</td>\n",
       "      <td>2.0</td>\n",
       "      <td>2.0</td>\n",
       "      <td>Improve</td>\n",
       "      <td>I understand.</td>\n",
       "    </tr>\n",
       "    <tr>\n",
       "      <th>734</th>\n",
       "      <td>11/4/2022 17:31:47</td>\n",
       "      <td>19.0</td>\n",
       "      <td>Spotify</td>\n",
       "      <td>5.0</td>\n",
       "      <td>Yes</td>\n",
       "      <td>Yes</td>\n",
       "      <td>No</td>\n",
       "      <td>Classical</td>\n",
       "      <td>No</td>\n",
       "      <td>No</td>\n",
       "      <td>...</td>\n",
       "      <td>Never</td>\n",
       "      <td>Never</td>\n",
       "      <td>Never</td>\n",
       "      <td>Sometimes</td>\n",
       "      <td>2.0</td>\n",
       "      <td>3.0</td>\n",
       "      <td>2.0</td>\n",
       "      <td>1.0</td>\n",
       "      <td>Improve</td>\n",
       "      <td>I understand.</td>\n",
       "    </tr>\n",
       "    <tr>\n",
       "      <th>735</th>\n",
       "      <td>11/9/2022 1:55:20</td>\n",
       "      <td>29.0</td>\n",
       "      <td>YouTube Music</td>\n",
       "      <td>2.0</td>\n",
       "      <td>Yes</td>\n",
       "      <td>No</td>\n",
       "      <td>No</td>\n",
       "      <td>Hip hop</td>\n",
       "      <td>Yes</td>\n",
       "      <td>Yes</td>\n",
       "      <td>...</td>\n",
       "      <td>Very frequently</td>\n",
       "      <td>Very frequently</td>\n",
       "      <td>Very frequently</td>\n",
       "      <td>Rarely</td>\n",
       "      <td>2.0</td>\n",
       "      <td>2.0</td>\n",
       "      <td>2.0</td>\n",
       "      <td>5.0</td>\n",
       "      <td>Improve</td>\n",
       "      <td>I understand.</td>\n",
       "    </tr>\n",
       "  </tbody>\n",
       "</table>\n",
       "<p>736 rows × 33 columns</p>\n",
       "</div>"
      ],
      "text/plain": [
       "               Timestamp   Age Primary streaming service  Hours per day  \\\n",
       "0     8/27/2022 19:29:02  18.0                   Spotify            3.0   \n",
       "1     8/27/2022 19:57:31  63.0                   Pandora            1.5   \n",
       "2     8/27/2022 21:28:18  18.0                   Spotify            4.0   \n",
       "3     8/27/2022 21:40:40  61.0             YouTube Music            2.5   \n",
       "4     8/27/2022 21:54:47  18.0                   Spotify            4.0   \n",
       "..                   ...   ...                       ...            ...   \n",
       "731  10/30/2022 14:37:28  17.0                   Spotify            2.0   \n",
       "732   11/1/2022 22:26:42  18.0                   Spotify            1.0   \n",
       "733   11/3/2022 23:24:38  19.0   Other streaming service            6.0   \n",
       "734   11/4/2022 17:31:47  19.0                   Spotify            5.0   \n",
       "735    11/9/2022 1:55:20  29.0             YouTube Music            2.0   \n",
       "\n",
       "    While working Instrumentalist Composer         Fav genre Exploratory  \\\n",
       "0             Yes             Yes      Yes             Latin         Yes   \n",
       "1             Yes              No       No              Rock         Yes   \n",
       "2              No              No       No  Video game music          No   \n",
       "3             Yes              No      Yes              Jazz         Yes   \n",
       "4             Yes              No       No               R&B         Yes   \n",
       "..            ...             ...      ...               ...         ...   \n",
       "731           Yes             Yes       No              Rock         Yes   \n",
       "732           Yes             Yes       No               Pop         Yes   \n",
       "733           Yes              No      Yes               Rap         Yes   \n",
       "734           Yes             Yes       No         Classical          No   \n",
       "735           Yes              No       No           Hip hop         Yes   \n",
       "\n",
       "    Foreign languages  ...  Frequency [R&B]  Frequency [Rap] Frequency [Rock]  \\\n",
       "0                 Yes  ...        Sometimes  Very frequently            Never   \n",
       "1                  No  ...        Sometimes           Rarely  Very frequently   \n",
       "2                 Yes  ...            Never           Rarely           Rarely   \n",
       "3                 Yes  ...        Sometimes            Never            Never   \n",
       "4                  No  ...  Very frequently  Very frequently            Never   \n",
       "..                ...  ...              ...              ...              ...   \n",
       "731               Yes  ...            Never           Rarely  Very frequently   \n",
       "732               Yes  ...            Never            Never        Sometimes   \n",
       "733                No  ...        Sometimes        Sometimes           Rarely   \n",
       "734                No  ...            Never            Never            Never   \n",
       "735               Yes  ...  Very frequently  Very frequently  Very frequently   \n",
       "\n",
       "    Frequency [Video game music] Anxiety Depression Insomnia  OCD  \\\n",
       "0                      Sometimes     3.0        0.0      1.0  0.0   \n",
       "1                         Rarely     7.0        2.0      2.0  1.0   \n",
       "2                Very frequently     7.0        7.0     10.0  2.0   \n",
       "3                          Never     9.0        7.0      3.0  3.0   \n",
       "4                         Rarely     7.0        2.0      5.0  9.0   \n",
       "..                           ...     ...        ...      ...  ...   \n",
       "731                        Never     7.0        6.0      0.0  9.0   \n",
       "732                    Sometimes     3.0        2.0      2.0  5.0   \n",
       "733                       Rarely     2.0        2.0      2.0  2.0   \n",
       "734                    Sometimes     2.0        3.0      2.0  1.0   \n",
       "735                       Rarely     2.0        2.0      2.0  5.0   \n",
       "\n",
       "    Music effects    Permissions  \n",
       "0             NaN  I understand.  \n",
       "1             NaN  I understand.  \n",
       "2       No effect  I understand.  \n",
       "3         Improve  I understand.  \n",
       "4         Improve  I understand.  \n",
       "..            ...            ...  \n",
       "731       Improve  I understand.  \n",
       "732       Improve  I understand.  \n",
       "733       Improve  I understand.  \n",
       "734       Improve  I understand.  \n",
       "735       Improve  I understand.  \n",
       "\n",
       "[736 rows x 33 columns]"
      ]
     },
     "execution_count": 3,
     "metadata": {},
     "output_type": "execute_result"
    }
   ],
   "source": [
    "df"
   ]
  },
  {
   "cell_type": "code",
   "execution_count": 4,
   "id": "4ba06d3a21fc4025",
   "metadata": {
    "ExecuteTime": {
     "end_time": "2025-02-25T12:43:17.078563Z",
     "start_time": "2025-02-25T12:43:17.076204Z"
    }
   },
   "outputs": [],
   "source": [
    "genre_columns = [col for col in df.columns if col.startswith('Frequency')]\n",
    "df = df.drop(columns=genre_columns)"
   ]
  },
  {
   "cell_type": "code",
   "execution_count": 5,
   "id": "34c36a2ab1f25f8c",
   "metadata": {
    "ExecuteTime": {
     "end_time": "2025-02-25T12:43:17.108347Z",
     "start_time": "2025-02-25T12:43:17.104394Z"
    }
   },
   "outputs": [],
   "source": [
    "# Перетворення \"Yes\"/\"No\" у 1/0\n",
    "binary_cols = [\"While working\", \"Instrumentalist\", \"Composer\", \"Exploratory\", \"Foreign languages\"]\n",
    "df[binary_cols] = df[binary_cols].map(lambda x: 1 if x == \"Yes\" else 0)"
   ]
  },
  {
   "cell_type": "code",
   "execution_count": 6,
   "id": "5a1257ed9d17c3a0",
   "metadata": {
    "ExecuteTime": {
     "end_time": "2025-02-25T12:43:17.153460Z",
     "start_time": "2025-02-25T12:43:17.150796Z"
    }
   },
   "outputs": [
    {
     "name": "stdout",
     "output_type": "stream",
     "text": [
      "Timestamp                      0\n",
      "Age                            1\n",
      "Primary streaming service      1\n",
      "Hours per day                  0\n",
      "While working                  0\n",
      "Instrumentalist                0\n",
      "Composer                       0\n",
      "Fav genre                      0\n",
      "Exploratory                    0\n",
      "Foreign languages              0\n",
      "BPM                          107\n",
      "Anxiety                        0\n",
      "Depression                     0\n",
      "Insomnia                       0\n",
      "OCD                            0\n",
      "Music effects                  8\n",
      "Permissions                    0\n",
      "dtype: int64\n"
     ]
    }
   ],
   "source": [
    "print(df.isnull().sum())"
   ]
  },
  {
   "cell_type": "code",
   "execution_count": 7,
   "id": "44c8cd8e7d0c1d99",
   "metadata": {
    "ExecuteTime": {
     "end_time": "2025-02-25T12:43:17.180144Z",
     "start_time": "2025-02-25T12:43:17.177193Z"
    }
   },
   "outputs": [],
   "source": [
    "df = df.dropna()"
   ]
  },
  {
   "cell_type": "code",
   "execution_count": 8,
   "id": "f87112810c065687",
   "metadata": {
    "ExecuteTime": {
     "end_time": "2025-02-25T12:43:17.195025Z",
     "start_time": "2025-02-25T12:43:17.190274Z"
    }
   },
   "outputs": [],
   "source": [
    "# Діапазони допустимих значень\n",
    "valid_ranges = {\n",
    "    \"Age\": (0, 120),\n",
    "    \"BPM\": (1, 400),\n",
    "    \"Hours per day\": (0, 24),\n",
    "    \"Anxiety\": (0, 10),\n",
    "    \"Depression\": (0, 10),\n",
    "    \"Insomnia\": (0, 10),\n",
    "    \"OCD\": (0, 10)\n",
    "}\n",
    "\n",
    "# Фільтрація значень у допустимих межах\n",
    "for column, (min_val, max_val) in valid_ranges.items():\n",
    "    df = df[(df[column] >= min_val) & (df[column] <= max_val)]"
   ]
  },
  {
   "cell_type": "code",
   "execution_count": 9,
   "id": "6f0d290a24100cd9",
   "metadata": {
    "ExecuteTime": {
     "end_time": "2025-02-25T12:43:17.203170Z",
     "start_time": "2025-02-25T12:43:17.198078Z"
    }
   },
   "outputs": [
    {
     "name": "stdout",
     "output_type": "stream",
     "text": [
      "\n",
      "Статистика для Age:\n",
      "Математичне сподівання: 24.73\n",
      "Медіана: 21.00\n",
      "Мода: 18.00\n",
      "Дисперсія: 135.82\n",
      "Середньоквадратичне відхилення: 11.65\n",
      "\n",
      "Статистика для Hours per day:\n",
      "Математичне сподівання: 3.72\n",
      "Медіана: 3.00\n",
      "Мода: 2.00\n",
      "Дисперсія: 9.63\n",
      "Середньоквадратичне відхилення: 3.10\n",
      "\n",
      "Статистика для BPM:\n",
      "Математичне сподівання: 123.28\n",
      "Медіана: 120.00\n",
      "Мода: 120.00\n",
      "Дисперсія: 1088.09\n",
      "Середньоквадратичне відхилення: 32.99\n",
      "\n",
      "Статистика для Anxiety:\n",
      "Математичне сподівання: 5.87\n",
      "Медіана: 6.00\n",
      "Мода: 7.00\n",
      "Дисперсія: 7.63\n",
      "Середньоквадратичне відхилення: 2.76\n",
      "\n",
      "Статистика для Depression:\n",
      "Математичне сподівання: 4.88\n",
      "Медіана: 5.00\n",
      "Мода: 7.00\n",
      "Дисперсія: 8.98\n",
      "Середньоквадратичне відхилення: 3.00\n",
      "\n",
      "Статистика для Insomnia:\n",
      "Математичне сподівання: 3.81\n",
      "Медіана: 3.00\n",
      "Мода: 0.00\n",
      "Дисперсія: 9.66\n",
      "Середньоквадратичне відхилення: 3.11\n",
      "\n",
      "Статистика для OCD:\n",
      "Математичне сподівання: 2.64\n",
      "Медіана: 2.00\n",
      "Мода: 0.00\n",
      "Дисперсія: 8.08\n",
      "Середньоквадратичне відхилення: 2.84\n"
     ]
    }
   ],
   "source": [
    "# Статистичний аналіз колонок\n",
    "numeric_columns = ['Age', 'Hours per day', 'BPM', 'Anxiety', 'Depression', 'Insomnia', 'OCD']\n",
    "\n",
    "# Створюємо словник для зберігання статистик\n",
    "stats = {}\n",
    "\n",
    "for column in numeric_columns:\n",
    "    stats[column] = {\n",
    "        'Математичне сподівання': df[column].mean(),\n",
    "        'Медіана': df[column].median(),\n",
    "        'Мода': df[column].mode().iloc[0],\n",
    "        'Дисперсія': df[column].var(),\n",
    "        'Середньоквадратичне відхилення': df[column].std()\n",
    "    }\n",
    "\n",
    "# Виводимо статистики\n",
    "for column, metrics in stats.items():\n",
    "    print(f\"\\nСтатистика для {column}:\")\n",
    "    for metric, value in metrics.items():\n",
    "        print(f\"{metric}: {value:.2f}\")"
   ]
  },
  {
   "cell_type": "code",
   "execution_count": 10,
   "id": "1cb4eb19f70cbf8",
   "metadata": {
    "ExecuteTime": {
     "end_time": "2025-02-25T12:43:17.272036Z",
     "start_time": "2025-02-25T12:43:17.206580Z"
    }
   },
   "outputs": [
    {
     "data": {
      "text/plain": [
       "array([[<Axes: title={'center': 'Age'}>]], dtype=object)"
      ]
     },
     "execution_count": 10,
     "metadata": {},
     "output_type": "execute_result"
    },
    {
     "data": {
      "image/png": "[encoded data removed]",
      "text/plain": [
       "<Figure size 640x480 with 1 Axes>"
      ]
     },
     "metadata": {},
     "output_type": "display_data"
    }
   ],
   "source": [
    "df.hist(['Age'], bins='auto', color='mediumaquamarine')"
   ]
  },
  {
   "cell_type": "code",
   "execution_count": 11,
   "id": "1c49dc902550a5d4",
   "metadata": {
    "ExecuteTime": {
     "end_time": "2025-02-25T12:43:17.354861Z",
     "start_time": "2025-02-25T12:43:17.293086Z"
    }
   },
   "outputs": [
    {
     "data": {
      "image/png": "[encoded data removed]",
      "text/plain": [
       "<Figure size 1400x600 with 1 Axes>"
      ]
     },
     "metadata": {},
     "output_type": "display_data"
    }
   ],
   "source": [
    "plt.figure(figsize=(14, 6))\n",
    "sns.histplot(df['Primary streaming service'], color='darkturquoise')\n",
    "plt.show()"
   ]
  },
  {
   "cell_type": "code",
   "execution_count": 12,
   "id": "47705cffc896336e",
   "metadata": {
    "ExecuteTime": {
     "end_time": "2025-02-25T12:43:17.425394Z",
     "start_time": "2025-02-25T12:43:17.359033Z"
    }
   },
   "outputs": [
    {
     "data": {
      "text/plain": [
       "array([[<Axes: title={'center': 'Hours per day'}>]], dtype=object)"
      ]
     },
     "execution_count": 12,
     "metadata": {},
     "output_type": "execute_result"
    },
    {
     "data": {
      "image/png": "[encoded data removed]",
      "text/plain": [
       "<Figure size 640x480 with 1 Axes>"
      ]
     },
     "metadata": {},
     "output_type": "display_data"
    }
   ],
   "source": [
    "df.hist(['Hours per day'], bins='auto', color='slateblue')"
   ]
  },
  {
   "cell_type": "code",
   "execution_count": 13,
   "id": "2a1fc795169377c",
   "metadata": {
    "ExecuteTime": {
     "end_time": "2025-02-25T12:43:17.520358Z",
     "start_time": "2025-02-25T12:43:17.444740Z"
    }
   },
   "outputs": [
    {
     "data": {
      "image/png": "[encoded data removed]",
      "text/plain": [
       "<Figure size 1200x600 with 1 Axes>"
      ]
     },
     "metadata": {},
     "output_type": "display_data"
    }
   ],
   "source": [
    "# Побудова гістограми частотності жанрів\n",
    "plt.figure(figsize=(12, 6))\n",
    "df[\"Fav genre\"].value_counts().plot(kind=\"bar\", color=\"skyblue\")\n",
    "plt.xlabel(\"Жанр музики\")\n",
    "plt.ylabel(\"Кількість згадувань\")\n",
    "plt.title(\"Улюблені жанри музики\")\n",
    "plt.xticks(rotation=45)\n",
    "plt.show()"
   ]
  },
  {
   "cell_type": "code",
   "execution_count": 14,
   "id": "5d2ec8beadde5c8d",
   "metadata": {
    "ExecuteTime": {
     "end_time": "2025-02-25T12:43:17.628129Z",
     "start_time": "2025-02-25T12:43:17.524864Z"
    }
   },
   "outputs": [
    {
     "data": {
      "image/png": "[encoded data removed]",
      "text/plain": [
       "<Figure size 1000x500 with 1 Axes>"
      ]
     },
     "metadata": {},
     "output_type": "display_data"
    }
   ],
   "source": [
    "labels = ['Anxiety', 'Depression', 'Insomnia', 'OCD']\n",
    "x = np.arange(len(labels))\n",
    "width = 0.15\n",
    "\n",
    "fig, ax = plt.subplots(figsize=(10, 5))\n",
    "\n",
    "# Вибираємо тільки числові значення перед підрахунком медіани\n",
    "num_df = df.select_dtypes(include=[np.number])\n",
    "\n",
    "b1 = ax.bar(x-2*width, num_df[df.Instrumentalist == 0].median()[-4:], width, color='indianred', label=\"Не є музикантом\")\n",
    "b2 = ax.bar(x-width, num_df[df.Instrumentalist == 1].median()[-4:], width, color='darkred', label=\"Музикант\")\n",
    "b3 = ax.bar(x, num_df[df.Composer == 0].median()[-4:], width, color='cornflowerblue', label=\"Не є композитором\")\n",
    "b4 = ax.bar(x+width, num_df[df.Composer == 1].median()[-4:], width, color='darkblue', label=\"Композитор\")\n",
    "\n",
    "ax.set_ylim([0, 8])\n",
    "ax.set_title('Оцінка психічного стану')\n",
    "ax.set_xticks(x, labels)\n",
    "ax.legend()\n",
    "\n",
    "plt.show()"
   ]
  },
  {
   "cell_type": "code",
   "execution_count": 15,
   "id": "7cb62ff515e1dc5a",
   "metadata": {
    "ExecuteTime": {
     "end_time": "2025-02-25T12:43:17.634162Z",
     "start_time": "2025-02-25T12:43:17.632093Z"
    }
   },
   "outputs": [],
   "source": [
    "age = pd.Series(df.Age.head(10).values)"
   ]
  },
  {
   "cell_type": "code",
   "execution_count": 16,
   "id": "408f6ec4db854021",
   "metadata": {
    "ExecuteTime": {
     "end_time": "2025-02-25T12:43:17.644406Z",
     "start_time": "2025-02-25T12:43:17.641954Z"
    }
   },
   "outputs": [
    {
     "data": {
      "text/plain": [
       "0    18.0\n",
       "1    61.0\n",
       "2    18.0\n",
       "3    18.0\n",
       "4    18.0\n",
       "5    21.0\n",
       "6    19.0\n",
       "7    18.0\n",
       "8    19.0\n",
       "9    19.0\n",
       "dtype: float64"
      ]
     },
     "execution_count": 16,
     "metadata": {},
     "output_type": "execute_result"
    }
   ],
   "source": [
    "age"
   ]
  },
  {
   "cell_type": "code",
   "execution_count": 17,
   "id": "6d2622c0f094fba6",
   "metadata": {
    "ExecuteTime": {
     "end_time": "2025-02-25T12:43:17.652777Z",
     "start_time": "2025-02-25T12:43:17.648975Z"
    }
   },
   "outputs": [
    {
     "data": {
      "text/plain": [
       "0    19.0\n",
       "1    19.0\n",
       "2    19.0\n",
       "dtype: float64"
      ]
     },
     "execution_count": 17,
     "metadata": {},
     "output_type": "execute_result"
    }
   ],
   "source": [
    "pd.Series(19.0, range(3))"
   ]
  },
  {
   "cell_type": "code",
   "execution_count": 18,
   "id": "c01e44f2b7b1b2dc",
   "metadata": {
    "ExecuteTime": {
     "end_time": "2025-02-25T12:43:17.690679Z",
     "start_time": "2025-02-25T12:43:17.686363Z"
    }
   },
   "outputs": [
    {
     "data": {
      "text/plain": [
       "np.float64(18.0)"
      ]
     },
     "execution_count": 18,
     "metadata": {},
     "output_type": "execute_result"
    }
   ],
   "source": [
    "age[0]"
   ]
  },
  {
   "cell_type": "code",
   "execution_count": 19,
   "id": "54f209052a6da701",
   "metadata": {
    "ExecuteTime": {
     "end_time": "2025-02-25T12:43:17.737419Z",
     "start_time": "2025-02-25T12:43:17.734868Z"
    }
   },
   "outputs": [
    {
     "data": {
      "text/plain": [
       "np.int64(10)"
      ]
     },
     "execution_count": 19,
     "metadata": {},
     "output_type": "execute_result"
    }
   ],
   "source": [
    "age.count()"
   ]
  },
  {
   "cell_type": "code",
   "execution_count": 20,
   "id": "ee64dc8f077cc7d9",
   "metadata": {
    "ExecuteTime": {
     "end_time": "2025-02-25T12:43:17.779698Z",
     "start_time": "2025-02-25T12:43:17.776810Z"
    }
   },
   "outputs": [
    {
     "data": {
      "text/plain": [
       "np.float64(22.9)"
      ]
     },
     "execution_count": 20,
     "metadata": {},
     "output_type": "execute_result"
    }
   ],
   "source": [
    "age.mean()"
   ]
  },
  {
   "cell_type": "code",
   "execution_count": 21,
   "id": "857c042387eb35cf",
   "metadata": {
    "ExecuteTime": {
     "end_time": "2025-02-25T12:43:17.805675Z",
     "start_time": "2025-02-25T12:43:17.802119Z"
    }
   },
   "outputs": [
    {
     "data": {
      "text/plain": [
       "np.float64(18.0)"
      ]
     },
     "execution_count": 21,
     "metadata": {},
     "output_type": "execute_result"
    }
   ],
   "source": [
    "age.min()"
   ]
  },
  {
   "cell_type": "code",
   "execution_count": 22,
   "id": "ae1100113f2efe82",
   "metadata": {
    "ExecuteTime": {
     "end_time": "2025-02-25T12:43:17.832720Z",
     "start_time": "2025-02-25T12:43:17.828398Z"
    }
   },
   "outputs": [
    {
     "data": {
      "text/plain": [
       "np.float64(61.0)"
      ]
     },
     "execution_count": 22,
     "metadata": {},
     "output_type": "execute_result"
    }
   ],
   "source": [
    "age.max()"
   ]
  },
  {
   "cell_type": "code",
   "execution_count": 23,
   "id": "5914c19d00ee8e0",
   "metadata": {
    "ExecuteTime": {
     "end_time": "2025-02-25T12:43:17.844145Z",
     "start_time": "2025-02-25T12:43:17.841742Z"
    }
   },
   "outputs": [
    {
     "data": {
      "text/plain": [
       "np.float64(13.42013412749664)"
      ]
     },
     "execution_count": 23,
     "metadata": {},
     "output_type": "execute_result"
    }
   ],
   "source": [
    "age.std()"
   ]
  },
  {
   "cell_type": "code",
   "execution_count": 24,
   "id": "874227baa4a06f97",
   "metadata": {
    "ExecuteTime": {
     "end_time": "2025-02-25T12:43:17.875286Z",
     "start_time": "2025-02-25T12:43:17.871980Z"
    }
   },
   "outputs": [
    {
     "data": {
      "text/plain": [
       "count    10.000000\n",
       "mean     22.900000\n",
       "std      13.420134\n",
       "min      18.000000\n",
       "25%      18.000000\n",
       "50%      18.500000\n",
       "75%      19.000000\n",
       "max      61.000000\n",
       "dtype: float64"
      ]
     },
     "execution_count": 24,
     "metadata": {},
     "output_type": "execute_result"
    }
   ],
   "source": [
    "age.describe()"
   ]
  },
  {
   "cell_type": "code",
   "execution_count": 25,
   "id": "b6e450eb7f421f40",
   "metadata": {
    "ExecuteTime": {
     "end_time": "2025-02-25T12:43:17.897018Z",
     "start_time": "2025-02-25T12:43:17.894921Z"
    }
   },
   "outputs": [],
   "source": [
    "age = pd.Series(df.Age.reset_index(drop=True).loc[10:14].values, index=['Miles', 'Kevin', 'Molly', 'Kylie', 'Mark'])"
   ]
  },
  {
   "cell_type": "code",
   "execution_count": 26,
   "id": "372adfe80db71bb6",
   "metadata": {
    "ExecuteTime": {
     "end_time": "2025-02-25T12:43:17.923077Z",
     "start_time": "2025-02-25T12:43:17.919822Z"
    }
   },
   "outputs": [
    {
     "data": {
      "text/plain": [
       "Miles    18.0\n",
       "Kevin    16.0\n",
       "Molly    16.0\n",
       "Kylie    17.0\n",
       "Mark     15.0\n",
       "dtype: float64"
      ]
     },
     "execution_count": 26,
     "metadata": {},
     "output_type": "execute_result"
    }
   ],
   "source": [
    "age"
   ]
  },
  {
   "cell_type": "code",
   "execution_count": 27,
   "id": "399d600c3560a568",
   "metadata": {
    "ExecuteTime": {
     "end_time": "2025-02-25T12:43:17.964082Z",
     "start_time": "2025-02-25T12:43:17.962030Z"
    }
   },
   "outputs": [],
   "source": [
    "age = pd.Series({'Miles': 18, 'Kevin': 16, 'Molly': 16, 'Kylie': 17, 'Mark': 15})"
   ]
  },
  {
   "cell_type": "code",
   "execution_count": 28,
   "id": "46995cc9fb816fa5",
   "metadata": {
    "ExecuteTime": {
     "end_time": "2025-02-25T12:43:17.999138Z",
     "start_time": "2025-02-25T12:43:17.996372Z"
    }
   },
   "outputs": [
    {
     "data": {
      "text/plain": [
       "Miles    18\n",
       "Kevin    16\n",
       "Molly    16\n",
       "Kylie    17\n",
       "Mark     15\n",
       "dtype: int64"
      ]
     },
     "execution_count": 28,
     "metadata": {},
     "output_type": "execute_result"
    }
   ],
   "source": [
    "age"
   ]
  },
  {
   "cell_type": "code",
   "execution_count": 29,
   "id": "616722f43b08ecd5",
   "metadata": {
    "ExecuteTime": {
     "end_time": "2025-02-25T12:43:18.040271Z",
     "start_time": "2025-02-25T12:43:18.037573Z"
    }
   },
   "outputs": [
    {
     "data": {
      "text/plain": [
       "np.int64(16)"
      ]
     },
     "execution_count": 29,
     "metadata": {},
     "output_type": "execute_result"
    }
   ],
   "source": [
    "age['Molly']"
   ]
  },
  {
   "cell_type": "code",
   "execution_count": 30,
   "id": "90de48fc2d542d6d",
   "metadata": {
    "ExecuteTime": {
     "end_time": "2025-02-25T12:43:18.074484Z",
     "start_time": "2025-02-25T12:43:18.071854Z"
    }
   },
   "outputs": [
    {
     "data": {
      "text/plain": [
       "np.int64(16)"
      ]
     },
     "execution_count": 30,
     "metadata": {},
     "output_type": "execute_result"
    }
   ],
   "source": [
    "age.Kevin"
   ]
  },
  {
   "cell_type": "code",
   "execution_count": 31,
   "id": "17df14995e05b1c8",
   "metadata": {
    "ExecuteTime": {
     "end_time": "2025-02-25T12:43:18.106615Z",
     "start_time": "2025-02-25T12:43:18.103764Z"
    }
   },
   "outputs": [
    {
     "data": {
      "text/plain": [
       "dtype('int64')"
      ]
     },
     "execution_count": 31,
     "metadata": {},
     "output_type": "execute_result"
    }
   ],
   "source": [
    "age.dtype"
   ]
  },
  {
   "cell_type": "code",
   "execution_count": 32,
   "id": "b3da5780401d4238",
   "metadata": {
    "ExecuteTime": {
     "end_time": "2025-02-25T12:43:18.133590Z",
     "start_time": "2025-02-25T12:43:18.130922Z"
    }
   },
   "outputs": [
    {
     "data": {
      "text/plain": [
       "array([18, 16, 16, 17, 15])"
      ]
     },
     "execution_count": 32,
     "metadata": {},
     "output_type": "execute_result"
    }
   ],
   "source": [
    "age.values"
   ]
  },
  {
   "cell_type": "code",
   "execution_count": 33,
   "id": "2e8b23d6c27b67ee",
   "metadata": {
    "ExecuteTime": {
     "end_time": "2025-02-25T12:43:18.149310Z",
     "start_time": "2025-02-25T12:43:18.147252Z"
    }
   },
   "outputs": [],
   "source": [
    "services = pd.Series(df['Primary streaming service'].head().values)"
   ]
  },
  {
   "cell_type": "code",
   "execution_count": 34,
   "id": "7043ccd17f768531",
   "metadata": {
    "ExecuteTime": {
     "end_time": "2025-02-25T12:43:18.158893Z",
     "start_time": "2025-02-25T12:43:18.156069Z"
    }
   },
   "outputs": [
    {
     "data": {
      "text/plain": [
       "0          Spotify\n",
       "1    YouTube Music\n",
       "2          Spotify\n",
       "3          Spotify\n",
       "4    YouTube Music\n",
       "dtype: object"
      ]
     },
     "execution_count": 34,
     "metadata": {},
     "output_type": "execute_result"
    }
   ],
   "source": [
    "services"
   ]
  },
  {
   "cell_type": "code",
   "execution_count": 35,
   "id": "e29bdb21fa6f79fb",
   "metadata": {
    "ExecuteTime": {
     "end_time": "2025-02-25T12:43:18.180266Z",
     "start_time": "2025-02-25T12:43:18.177265Z"
    }
   },
   "outputs": [
    {
     "data": {
      "text/plain": [
       "0     True\n",
       "1    False\n",
       "2     True\n",
       "3     True\n",
       "4    False\n",
       "dtype: bool"
      ]
     },
     "execution_count": 35,
     "metadata": {},
     "output_type": "execute_result"
    }
   ],
   "source": [
    "services.str.contains('S')"
   ]
  },
  {
   "cell_type": "code",
   "execution_count": 36,
   "id": "b918d3011382bc44",
   "metadata": {
    "ExecuteTime": {
     "end_time": "2025-02-25T12:43:18.220611Z",
     "start_time": "2025-02-25T12:43:18.217577Z"
    }
   },
   "outputs": [
    {
     "data": {
      "text/plain": [
       "0          SPOTIFY\n",
       "1    YOUTUBE MUSIC\n",
       "2          SPOTIFY\n",
       "3          SPOTIFY\n",
       "4    YOUTUBE MUSIC\n",
       "dtype: object"
      ]
     },
     "execution_count": 36,
     "metadata": {},
     "output_type": "execute_result"
    }
   ],
   "source": [
    "services.str.upper()"
   ]
  },
  {
   "cell_type": "code",
   "execution_count": 37,
   "id": "9683cd039ba14ce9",
   "metadata": {
    "ExecuteTime": {
     "end_time": "2025-02-25T12:43:18.270585Z",
     "start_time": "2025-02-25T12:43:18.268907Z"
    }
   },
   "outputs": [],
   "source": [
    "mental_state_dict = {'Miles': [6, 4, 7, 0], 'Kevin': [8, 8, 4, 3], 'Molly': [5, 7, 10, 0], 'Kylie': [7, 5, 0, 3], 'Mark': [7, 3, 0, 2]}"
   ]
  },
  {
   "cell_type": "code",
   "execution_count": 38,
   "id": "9e63111527444d71",
   "metadata": {
    "ExecuteTime": {
     "end_time": "2025-02-25T12:43:18.327557Z",
     "start_time": "2025-02-25T12:43:18.325701Z"
    }
   },
   "outputs": [],
   "source": [
    "mental_state = pd.DataFrame(mental_state_dict)"
   ]
  },
  {
   "cell_type": "code",
   "execution_count": 39,
   "id": "fd6dd47d92440239",
   "metadata": {
    "ExecuteTime": {
     "end_time": "2025-02-25T12:43:18.379453Z",
     "start_time": "2025-02-25T12:43:18.375905Z"
    }
   },
   "outputs": [
    {
     "data": {
      "text/html": [
       "<div>\n",
       "<style scoped>\n",
       "    .dataframe tbody tr th:only-of-type {\n",
       "        vertical-align: middle;\n",
       "    }\n",
       "\n",
       "    .dataframe tbody tr th {\n",
       "        vertical-align: top;\n",
       "    }\n",
       "\n",
       "    .dataframe thead th {\n",
       "        text-align: right;\n",
       "    }\n",
       "</style>\n",
       "<table border=\"1\" class=\"dataframe\">\n",
       "  <thead>\n",
       "    <tr style=\"text-align: right;\">\n",
       "      <th></th>\n",
       "      <th>Miles</th>\n",
       "      <th>Kevin</th>\n",
       "      <th>Molly</th>\n",
       "      <th>Kylie</th>\n",
       "      <th>Mark</th>\n",
       "    </tr>\n",
       "  </thead>\n",
       "  <tbody>\n",
       "    <tr>\n",
       "      <th>0</th>\n",
       "      <td>6</td>\n",
       "      <td>8</td>\n",
       "      <td>5</td>\n",
       "      <td>7</td>\n",
       "      <td>7</td>\n",
       "    </tr>\n",
       "    <tr>\n",
       "      <th>1</th>\n",
       "      <td>4</td>\n",
       "      <td>8</td>\n",
       "      <td>7</td>\n",
       "      <td>5</td>\n",
       "      <td>3</td>\n",
       "    </tr>\n",
       "    <tr>\n",
       "      <th>2</th>\n",
       "      <td>7</td>\n",
       "      <td>4</td>\n",
       "      <td>10</td>\n",
       "      <td>0</td>\n",
       "      <td>0</td>\n",
       "    </tr>\n",
       "    <tr>\n",
       "      <th>3</th>\n",
       "      <td>0</td>\n",
       "      <td>3</td>\n",
       "      <td>0</td>\n",
       "      <td>3</td>\n",
       "      <td>2</td>\n",
       "    </tr>\n",
       "  </tbody>\n",
       "</table>\n",
       "</div>"
      ],
      "text/plain": [
       "   Miles  Kevin  Molly  Kylie  Mark\n",
       "0      6      8      5      7     7\n",
       "1      4      8      7      5     3\n",
       "2      7      4     10      0     0\n",
       "3      0      3      0      3     2"
      ]
     },
     "execution_count": 39,
     "metadata": {},
     "output_type": "execute_result"
    }
   ],
   "source": [
    "mental_state"
   ]
  },
  {
   "cell_type": "code",
   "execution_count": 40,
   "id": "e04ca05304b32fe9",
   "metadata": {
    "ExecuteTime": {
     "end_time": "2025-02-25T12:43:18.410956Z",
     "start_time": "2025-02-25T12:43:18.406680Z"
    }
   },
   "outputs": [
    {
     "data": {
      "text/html": [
       "<div>\n",
       "<style scoped>\n",
       "    .dataframe tbody tr th:only-of-type {\n",
       "        vertical-align: middle;\n",
       "    }\n",
       "\n",
       "    .dataframe tbody tr th {\n",
       "        vertical-align: top;\n",
       "    }\n",
       "\n",
       "    .dataframe thead th {\n",
       "        text-align: right;\n",
       "    }\n",
       "</style>\n",
       "<table border=\"1\" class=\"dataframe\">\n",
       "  <thead>\n",
       "    <tr style=\"text-align: right;\">\n",
       "      <th></th>\n",
       "      <th>Miles</th>\n",
       "      <th>Kevin</th>\n",
       "      <th>Molly</th>\n",
       "      <th>Kylie</th>\n",
       "      <th>Mark</th>\n",
       "    </tr>\n",
       "  </thead>\n",
       "  <tbody>\n",
       "    <tr>\n",
       "      <th>Anxiety</th>\n",
       "      <td>6</td>\n",
       "      <td>8</td>\n",
       "      <td>5</td>\n",
       "      <td>7</td>\n",
       "      <td>7</td>\n",
       "    </tr>\n",
       "    <tr>\n",
       "      <th>Depression</th>\n",
       "      <td>4</td>\n",
       "      <td>8</td>\n",
       "      <td>7</td>\n",
       "      <td>5</td>\n",
       "      <td>3</td>\n",
       "    </tr>\n",
       "    <tr>\n",
       "      <th>Insomnia</th>\n",
       "      <td>7</td>\n",
       "      <td>4</td>\n",
       "      <td>10</td>\n",
       "      <td>0</td>\n",
       "      <td>0</td>\n",
       "    </tr>\n",
       "    <tr>\n",
       "      <th>OCD</th>\n",
       "      <td>0</td>\n",
       "      <td>3</td>\n",
       "      <td>0</td>\n",
       "      <td>3</td>\n",
       "      <td>2</td>\n",
       "    </tr>\n",
       "  </tbody>\n",
       "</table>\n",
       "</div>"
      ],
      "text/plain": [
       "            Miles  Kevin  Molly  Kylie  Mark\n",
       "Anxiety         6      8      5      7     7\n",
       "Depression      4      8      7      5     3\n",
       "Insomnia        7      4     10      0     0\n",
       "OCD             0      3      0      3     2"
      ]
     },
     "execution_count": 40,
     "metadata": {},
     "output_type": "execute_result"
    }
   ],
   "source": [
    "pd.DataFrame(mental_state_dict, index=['Anxiety', 'Depression', 'Insomnia', 'OCD'])"
   ]
  },
  {
   "cell_type": "code",
   "execution_count": 41,
   "id": "51a5e882139a1cec",
   "metadata": {
    "ExecuteTime": {
     "end_time": "2025-02-25T12:43:18.458740Z",
     "start_time": "2025-02-25T12:43:18.456131Z"
    }
   },
   "outputs": [],
   "source": [
    "mental_state.index = ['Anxiety', 'Depression', 'Insomnia', 'OCD']"
   ]
  },
  {
   "cell_type": "code",
   "execution_count": 42,
   "id": "e0700fa36a5a46f2",
   "metadata": {
    "ExecuteTime": {
     "end_time": "2025-02-25T12:43:18.516349Z",
     "start_time": "2025-02-25T12:43:18.512188Z"
    }
   },
   "outputs": [
    {
     "data": {
      "text/html": [
       "<div>\n",
       "<style scoped>\n",
       "    .dataframe tbody tr th:only-of-type {\n",
       "        vertical-align: middle;\n",
       "    }\n",
       "\n",
       "    .dataframe tbody tr th {\n",
       "        vertical-align: top;\n",
       "    }\n",
       "\n",
       "    .dataframe thead th {\n",
       "        text-align: right;\n",
       "    }\n",
       "</style>\n",
       "<table border=\"1\" class=\"dataframe\">\n",
       "  <thead>\n",
       "    <tr style=\"text-align: right;\">\n",
       "      <th></th>\n",
       "      <th>Miles</th>\n",
       "      <th>Kevin</th>\n",
       "      <th>Molly</th>\n",
       "      <th>Kylie</th>\n",
       "      <th>Mark</th>\n",
       "    </tr>\n",
       "  </thead>\n",
       "  <tbody>\n",
       "    <tr>\n",
       "      <th>Anxiety</th>\n",
       "      <td>6</td>\n",
       "      <td>8</td>\n",
       "      <td>5</td>\n",
       "      <td>7</td>\n",
       "      <td>7</td>\n",
       "    </tr>\n",
       "    <tr>\n",
       "      <th>Depression</th>\n",
       "      <td>4</td>\n",
       "      <td>8</td>\n",
       "      <td>7</td>\n",
       "      <td>5</td>\n",
       "      <td>3</td>\n",
       "    </tr>\n",
       "    <tr>\n",
       "      <th>Insomnia</th>\n",
       "      <td>7</td>\n",
       "      <td>4</td>\n",
       "      <td>10</td>\n",
       "      <td>0</td>\n",
       "      <td>0</td>\n",
       "    </tr>\n",
       "    <tr>\n",
       "      <th>OCD</th>\n",
       "      <td>0</td>\n",
       "      <td>3</td>\n",
       "      <td>0</td>\n",
       "      <td>3</td>\n",
       "      <td>2</td>\n",
       "    </tr>\n",
       "  </tbody>\n",
       "</table>\n",
       "</div>"
      ],
      "text/plain": [
       "            Miles  Kevin  Molly  Kylie  Mark\n",
       "Anxiety         6      8      5      7     7\n",
       "Depression      4      8      7      5     3\n",
       "Insomnia        7      4     10      0     0\n",
       "OCD             0      3      0      3     2"
      ]
     },
     "execution_count": 42,
     "metadata": {},
     "output_type": "execute_result"
    }
   ],
   "source": [
    "mental_state"
   ]
  },
  {
   "cell_type": "code",
   "execution_count": 43,
   "id": "c3f643f31b670ba5",
   "metadata": {
    "ExecuteTime": {
     "end_time": "2025-02-25T12:43:18.566278Z",
     "start_time": "2025-02-25T12:43:18.562927Z"
    }
   },
   "outputs": [
    {
     "data": {
      "text/plain": [
       "Anxiety        5\n",
       "Depression     7\n",
       "Insomnia      10\n",
       "OCD            0\n",
       "Name: Molly, dtype: int64"
      ]
     },
     "execution_count": 43,
     "metadata": {},
     "output_type": "execute_result"
    }
   ],
   "source": [
    "mental_state['Molly']"
   ]
  },
  {
   "cell_type": "code",
   "execution_count": 44,
   "id": "b0132d5368fbef2e",
   "metadata": {
    "ExecuteTime": {
     "end_time": "2025-02-25T12:43:18.614664Z",
     "start_time": "2025-02-25T12:43:18.609776Z"
    }
   },
   "outputs": [
    {
     "data": {
      "text/plain": [
       "Anxiety       8\n",
       "Depression    8\n",
       "Insomnia      4\n",
       "OCD           3\n",
       "Name: Kevin, dtype: int64"
      ]
     },
     "execution_count": 44,
     "metadata": {},
     "output_type": "execute_result"
    }
   ],
   "source": [
    "mental_state.Kevin"
   ]
  },
  {
   "cell_type": "code",
   "execution_count": 45,
   "id": "76e6aaa7a0009562",
   "metadata": {
    "ExecuteTime": {
     "end_time": "2025-02-25T12:43:18.690471Z",
     "start_time": "2025-02-25T12:43:18.685433Z"
    }
   },
   "outputs": [
    {
     "data": {
      "text/plain": [
       "Miles    6\n",
       "Kevin    8\n",
       "Molly    5\n",
       "Kylie    7\n",
       "Mark     7\n",
       "Name: Anxiety, dtype: int64"
      ]
     },
     "execution_count": 45,
     "metadata": {},
     "output_type": "execute_result"
    }
   ],
   "source": [
    "mental_state.loc['Anxiety']"
   ]
  },
  {
   "cell_type": "code",
   "execution_count": 46,
   "id": "1d44d445d618726",
   "metadata": {
    "ExecuteTime": {
     "end_time": "2025-02-25T12:43:18.770787Z",
     "start_time": "2025-02-25T12:43:18.767964Z"
    }
   },
   "outputs": [
    {
     "data": {
      "text/plain": [
       "Miles    4\n",
       "Kevin    8\n",
       "Molly    7\n",
       "Kylie    5\n",
       "Mark     3\n",
       "Name: Depression, dtype: int64"
      ]
     },
     "execution_count": 46,
     "metadata": {},
     "output_type": "execute_result"
    }
   ],
   "source": [
    "mental_state.iloc[1]"
   ]
  },
  {
   "cell_type": "code",
   "execution_count": 47,
   "id": "d85b913da7a8adda",
   "metadata": {
    "ExecuteTime": {
     "end_time": "2025-02-25T12:43:18.902585Z",
     "start_time": "2025-02-25T12:43:18.898673Z"
    }
   },
   "outputs": [
    {
     "data": {
      "text/html": [
       "<div>\n",
       "<style scoped>\n",
       "    .dataframe tbody tr th:only-of-type {\n",
       "        vertical-align: middle;\n",
       "    }\n",
       "\n",
       "    .dataframe tbody tr th {\n",
       "        vertical-align: top;\n",
       "    }\n",
       "\n",
       "    .dataframe thead th {\n",
       "        text-align: right;\n",
       "    }\n",
       "</style>\n",
       "<table border=\"1\" class=\"dataframe\">\n",
       "  <thead>\n",
       "    <tr style=\"text-align: right;\">\n",
       "      <th></th>\n",
       "      <th>Miles</th>\n",
       "      <th>Kevin</th>\n",
       "      <th>Molly</th>\n",
       "      <th>Kylie</th>\n",
       "      <th>Mark</th>\n",
       "    </tr>\n",
       "  </thead>\n",
       "  <tbody>\n",
       "    <tr>\n",
       "      <th>Anxiety</th>\n",
       "      <td>6</td>\n",
       "      <td>8</td>\n",
       "      <td>5</td>\n",
       "      <td>7</td>\n",
       "      <td>7</td>\n",
       "    </tr>\n",
       "    <tr>\n",
       "      <th>Depression</th>\n",
       "      <td>4</td>\n",
       "      <td>8</td>\n",
       "      <td>7</td>\n",
       "      <td>5</td>\n",
       "      <td>3</td>\n",
       "    </tr>\n",
       "    <tr>\n",
       "      <th>Insomnia</th>\n",
       "      <td>7</td>\n",
       "      <td>4</td>\n",
       "      <td>10</td>\n",
       "      <td>0</td>\n",
       "      <td>0</td>\n",
       "    </tr>\n",
       "  </tbody>\n",
       "</table>\n",
       "</div>"
      ],
      "text/plain": [
       "            Miles  Kevin  Molly  Kylie  Mark\n",
       "Anxiety         6      8      5      7     7\n",
       "Depression      4      8      7      5     3\n",
       "Insomnia        7      4     10      0     0"
      ]
     },
     "execution_count": 47,
     "metadata": {},
     "output_type": "execute_result"
    }
   ],
   "source": [
    "mental_state.loc['Anxiety':'Insomnia']"
   ]
  },
  {
   "cell_type": "code",
   "execution_count": 48,
   "id": "effafcba178af19d",
   "metadata": {
    "ExecuteTime": {
     "end_time": "2025-02-25T12:43:18.954930Z",
     "start_time": "2025-02-25T12:43:18.951479Z"
    }
   },
   "outputs": [
    {
     "data": {
      "text/html": [
       "<div>\n",
       "<style scoped>\n",
       "    .dataframe tbody tr th:only-of-type {\n",
       "        vertical-align: middle;\n",
       "    }\n",
       "\n",
       "    .dataframe tbody tr th {\n",
       "        vertical-align: top;\n",
       "    }\n",
       "\n",
       "    .dataframe thead th {\n",
       "        text-align: right;\n",
       "    }\n",
       "</style>\n",
       "<table border=\"1\" class=\"dataframe\">\n",
       "  <thead>\n",
       "    <tr style=\"text-align: right;\">\n",
       "      <th></th>\n",
       "      <th>Miles</th>\n",
       "      <th>Kevin</th>\n",
       "      <th>Molly</th>\n",
       "      <th>Kylie</th>\n",
       "      <th>Mark</th>\n",
       "    </tr>\n",
       "  </thead>\n",
       "  <tbody>\n",
       "    <tr>\n",
       "      <th>Depression</th>\n",
       "      <td>4</td>\n",
       "      <td>8</td>\n",
       "      <td>7</td>\n",
       "      <td>5</td>\n",
       "      <td>3</td>\n",
       "    </tr>\n",
       "    <tr>\n",
       "      <th>Insomnia</th>\n",
       "      <td>7</td>\n",
       "      <td>4</td>\n",
       "      <td>10</td>\n",
       "      <td>0</td>\n",
       "      <td>0</td>\n",
       "    </tr>\n",
       "    <tr>\n",
       "      <th>OCD</th>\n",
       "      <td>0</td>\n",
       "      <td>3</td>\n",
       "      <td>0</td>\n",
       "      <td>3</td>\n",
       "      <td>2</td>\n",
       "    </tr>\n",
       "  </tbody>\n",
       "</table>\n",
       "</div>"
      ],
      "text/plain": [
       "            Miles  Kevin  Molly  Kylie  Mark\n",
       "Depression      4      8      7      5     3\n",
       "Insomnia        7      4     10      0     0\n",
       "OCD             0      3      0      3     2"
      ]
     },
     "execution_count": 48,
     "metadata": {},
     "output_type": "execute_result"
    }
   ],
   "source": [
    "mental_state.iloc[1:4]"
   ]
  },
  {
   "cell_type": "code",
   "execution_count": 49,
   "id": "f8b2b54791e83009",
   "metadata": {
    "ExecuteTime": {
     "end_time": "2025-02-25T12:43:19.020172Z",
     "start_time": "2025-02-25T12:43:19.016939Z"
    }
   },
   "outputs": [
    {
     "data": {
      "text/html": [
       "<div>\n",
       "<style scoped>\n",
       "    .dataframe tbody tr th:only-of-type {\n",
       "        vertical-align: middle;\n",
       "    }\n",
       "\n",
       "    .dataframe tbody tr th {\n",
       "        vertical-align: top;\n",
       "    }\n",
       "\n",
       "    .dataframe thead th {\n",
       "        text-align: right;\n",
       "    }\n",
       "</style>\n",
       "<table border=\"1\" class=\"dataframe\">\n",
       "  <thead>\n",
       "    <tr style=\"text-align: right;\">\n",
       "      <th></th>\n",
       "      <th>Miles</th>\n",
       "      <th>Kevin</th>\n",
       "      <th>Molly</th>\n",
       "      <th>Kylie</th>\n",
       "      <th>Mark</th>\n",
       "    </tr>\n",
       "  </thead>\n",
       "  <tbody>\n",
       "    <tr>\n",
       "      <th>Anxiety</th>\n",
       "      <td>6</td>\n",
       "      <td>8</td>\n",
       "      <td>5</td>\n",
       "      <td>7</td>\n",
       "      <td>7</td>\n",
       "    </tr>\n",
       "    <tr>\n",
       "      <th>Insomnia</th>\n",
       "      <td>7</td>\n",
       "      <td>4</td>\n",
       "      <td>10</td>\n",
       "      <td>0</td>\n",
       "      <td>0</td>\n",
       "    </tr>\n",
       "  </tbody>\n",
       "</table>\n",
       "</div>"
      ],
      "text/plain": [
       "          Miles  Kevin  Molly  Kylie  Mark\n",
       "Anxiety       6      8      5      7     7\n",
       "Insomnia      7      4     10      0     0"
      ]
     },
     "execution_count": 49,
     "metadata": {},
     "output_type": "execute_result"
    }
   ],
   "source": [
    "mental_state.loc[['Anxiety', 'Insomnia']]"
   ]
  },
  {
   "cell_type": "code",
   "execution_count": 50,
   "id": "43b5ded17b7efc28",
   "metadata": {
    "ExecuteTime": {
     "end_time": "2025-02-25T12:43:19.101490Z",
     "start_time": "2025-02-25T12:43:19.097853Z"
    }
   },
   "outputs": [
    {
     "data": {
      "text/html": [
       "<div>\n",
       "<style scoped>\n",
       "    .dataframe tbody tr th:only-of-type {\n",
       "        vertical-align: middle;\n",
       "    }\n",
       "\n",
       "    .dataframe tbody tr th {\n",
       "        vertical-align: top;\n",
       "    }\n",
       "\n",
       "    .dataframe thead th {\n",
       "        text-align: right;\n",
       "    }\n",
       "</style>\n",
       "<table border=\"1\" class=\"dataframe\">\n",
       "  <thead>\n",
       "    <tr style=\"text-align: right;\">\n",
       "      <th></th>\n",
       "      <th>Miles</th>\n",
       "      <th>Kevin</th>\n",
       "      <th>Molly</th>\n",
       "      <th>Kylie</th>\n",
       "      <th>Mark</th>\n",
       "    </tr>\n",
       "  </thead>\n",
       "  <tbody>\n",
       "    <tr>\n",
       "      <th>Depression</th>\n",
       "      <td>4</td>\n",
       "      <td>8</td>\n",
       "      <td>7</td>\n",
       "      <td>5</td>\n",
       "      <td>3</td>\n",
       "    </tr>\n",
       "    <tr>\n",
       "      <th>OCD</th>\n",
       "      <td>0</td>\n",
       "      <td>3</td>\n",
       "      <td>0</td>\n",
       "      <td>3</td>\n",
       "      <td>2</td>\n",
       "    </tr>\n",
       "  </tbody>\n",
       "</table>\n",
       "</div>"
      ],
      "text/plain": [
       "            Miles  Kevin  Molly  Kylie  Mark\n",
       "Depression      4      8      7      5     3\n",
       "OCD             0      3      0      3     2"
      ]
     },
     "execution_count": 50,
     "metadata": {},
     "output_type": "execute_result"
    }
   ],
   "source": [
    "mental_state.iloc[[1, 3]]"
   ]
  },
  {
   "cell_type": "code",
   "execution_count": 51,
   "id": "65b97243002c0a27",
   "metadata": {
    "ExecuteTime": {
     "end_time": "2025-02-25T12:43:19.167489Z",
     "start_time": "2025-02-25T12:43:19.163748Z"
    }
   },
   "outputs": [
    {
     "data": {
      "text/html": [
       "<div>\n",
       "<style scoped>\n",
       "    .dataframe tbody tr th:only-of-type {\n",
       "        vertical-align: middle;\n",
       "    }\n",
       "\n",
       "    .dataframe tbody tr th {\n",
       "        vertical-align: top;\n",
       "    }\n",
       "\n",
       "    .dataframe thead th {\n",
       "        text-align: right;\n",
       "    }\n",
       "</style>\n",
       "<table border=\"1\" class=\"dataframe\">\n",
       "  <thead>\n",
       "    <tr style=\"text-align: right;\">\n",
       "      <th></th>\n",
       "      <th>Kevin</th>\n",
       "      <th>Molly</th>\n",
       "    </tr>\n",
       "  </thead>\n",
       "  <tbody>\n",
       "    <tr>\n",
       "      <th>Depression</th>\n",
       "      <td>8</td>\n",
       "      <td>7</td>\n",
       "    </tr>\n",
       "    <tr>\n",
       "      <th>Insomnia</th>\n",
       "      <td>4</td>\n",
       "      <td>10</td>\n",
       "    </tr>\n",
       "    <tr>\n",
       "      <th>OCD</th>\n",
       "      <td>3</td>\n",
       "      <td>0</td>\n",
       "    </tr>\n",
       "  </tbody>\n",
       "</table>\n",
       "</div>"
      ],
      "text/plain": [
       "            Kevin  Molly\n",
       "Depression      8      7\n",
       "Insomnia        4     10\n",
       "OCD             3      0"
      ]
     },
     "execution_count": 51,
     "metadata": {},
     "output_type": "execute_result"
    }
   ],
   "source": [
    "mental_state.loc['Depression':'OCD', ['Kevin', 'Molly']]"
   ]
  },
  {
   "cell_type": "code",
   "execution_count": 52,
   "id": "981b31d44b544f71",
   "metadata": {
    "ExecuteTime": {
     "end_time": "2025-02-25T12:43:19.234852Z",
     "start_time": "2025-02-25T12:43:19.231608Z"
    }
   },
   "outputs": [
    {
     "data": {
      "text/html": [
       "<div>\n",
       "<style scoped>\n",
       "    .dataframe tbody tr th:only-of-type {\n",
       "        vertical-align: middle;\n",
       "    }\n",
       "\n",
       "    .dataframe tbody tr th {\n",
       "        vertical-align: top;\n",
       "    }\n",
       "\n",
       "    .dataframe thead th {\n",
       "        text-align: right;\n",
       "    }\n",
       "</style>\n",
       "<table border=\"1\" class=\"dataframe\">\n",
       "  <thead>\n",
       "    <tr style=\"text-align: right;\">\n",
       "      <th></th>\n",
       "      <th>Molly</th>\n",
       "      <th>Kylie</th>\n",
       "    </tr>\n",
       "  </thead>\n",
       "  <tbody>\n",
       "    <tr>\n",
       "      <th>Anxiety</th>\n",
       "      <td>5</td>\n",
       "      <td>7</td>\n",
       "    </tr>\n",
       "    <tr>\n",
       "      <th>OCD</th>\n",
       "      <td>0</td>\n",
       "      <td>3</td>\n",
       "    </tr>\n",
       "  </tbody>\n",
       "</table>\n",
       "</div>"
      ],
      "text/plain": [
       "         Molly  Kylie\n",
       "Anxiety      5      7\n",
       "OCD          0      3"
      ]
     },
     "execution_count": 52,
     "metadata": {},
     "output_type": "execute_result"
    }
   ],
   "source": [
    "mental_state.iloc[[0, 3], 2:4]"
   ]
  },
  {
   "cell_type": "code",
   "execution_count": 53,
   "id": "7219bca867b9701c",
   "metadata": {
    "ExecuteTime": {
     "end_time": "2025-02-25T12:43:19.305400Z",
     "start_time": "2025-02-25T12:43:19.300724Z"
    }
   },
   "outputs": [
    {
     "data": {
      "text/html": [
       "<div>\n",
       "<style scoped>\n",
       "    .dataframe tbody tr th:only-of-type {\n",
       "        vertical-align: middle;\n",
       "    }\n",
       "\n",
       "    .dataframe tbody tr th {\n",
       "        vertical-align: top;\n",
       "    }\n",
       "\n",
       "    .dataframe thead th {\n",
       "        text-align: right;\n",
       "    }\n",
       "</style>\n",
       "<table border=\"1\" class=\"dataframe\">\n",
       "  <thead>\n",
       "    <tr style=\"text-align: right;\">\n",
       "      <th></th>\n",
       "      <th>Miles</th>\n",
       "      <th>Kevin</th>\n",
       "      <th>Molly</th>\n",
       "      <th>Kylie</th>\n",
       "      <th>Mark</th>\n",
       "    </tr>\n",
       "  </thead>\n",
       "  <tbody>\n",
       "    <tr>\n",
       "      <th>Anxiety</th>\n",
       "      <td>6.0</td>\n",
       "      <td>8.0</td>\n",
       "      <td>5.0</td>\n",
       "      <td>7.0</td>\n",
       "      <td>7.0</td>\n",
       "    </tr>\n",
       "    <tr>\n",
       "      <th>Depression</th>\n",
       "      <td>NaN</td>\n",
       "      <td>8.0</td>\n",
       "      <td>7.0</td>\n",
       "      <td>5.0</td>\n",
       "      <td>NaN</td>\n",
       "    </tr>\n",
       "    <tr>\n",
       "      <th>Insomnia</th>\n",
       "      <td>7.0</td>\n",
       "      <td>NaN</td>\n",
       "      <td>10.0</td>\n",
       "      <td>NaN</td>\n",
       "      <td>NaN</td>\n",
       "    </tr>\n",
       "    <tr>\n",
       "      <th>OCD</th>\n",
       "      <td>NaN</td>\n",
       "      <td>NaN</td>\n",
       "      <td>NaN</td>\n",
       "      <td>NaN</td>\n",
       "      <td>NaN</td>\n",
       "    </tr>\n",
       "  </tbody>\n",
       "</table>\n",
       "</div>"
      ],
      "text/plain": [
       "            Miles  Kevin  Molly  Kylie  Mark\n",
       "Anxiety       6.0    8.0    5.0    7.0   7.0\n",
       "Depression    NaN    8.0    7.0    5.0   NaN\n",
       "Insomnia      7.0    NaN   10.0    NaN   NaN\n",
       "OCD           NaN    NaN    NaN    NaN   NaN"
      ]
     },
     "execution_count": 53,
     "metadata": {},
     "output_type": "execute_result"
    }
   ],
   "source": [
    "mental_state[mental_state >= 5]"
   ]
  },
  {
   "cell_type": "code",
   "execution_count": 54,
   "id": "b15b1d4931b4a671",
   "metadata": {
    "ExecuteTime": {
     "end_time": "2025-02-25T12:43:19.377143Z",
     "start_time": "2025-02-25T12:43:19.374569Z"
    }
   },
   "outputs": [
    {
     "data": {
      "text/plain": [
       "np.int64(5)"
      ]
     },
     "execution_count": 54,
     "metadata": {},
     "output_type": "execute_result"
    }
   ],
   "source": [
    "mental_state.at['Anxiety', 'Molly']"
   ]
  },
  {
   "cell_type": "code",
   "execution_count": 55,
   "id": "675409fa2d18a545",
   "metadata": {
    "ExecuteTime": {
     "end_time": "2025-02-25T12:43:19.440242Z",
     "start_time": "2025-02-25T12:43:19.437481Z"
    }
   },
   "outputs": [
    {
     "data": {
      "text/plain": [
       "np.int64(7)"
      ]
     },
     "execution_count": 55,
     "metadata": {},
     "output_type": "execute_result"
    }
   ],
   "source": [
    "mental_state.iat[0, 4]"
   ]
  },
  {
   "cell_type": "code",
   "execution_count": 56,
   "id": "1f8887eeee4a9e33",
   "metadata": {
    "ExecuteTime": {
     "end_time": "2025-02-25T12:43:19.495398Z",
     "start_time": "2025-02-25T12:43:19.493692Z"
    }
   },
   "outputs": [],
   "source": [
    "mental_state.at['Anxiety', 'Molly'] = 4"
   ]
  },
  {
   "cell_type": "code",
   "execution_count": 57,
   "id": "50fa434ef597e1a8",
   "metadata": {
    "ExecuteTime": {
     "end_time": "2025-02-25T12:43:19.535662Z",
     "start_time": "2025-02-25T12:43:19.533098Z"
    }
   },
   "outputs": [
    {
     "data": {
      "text/plain": [
       "np.int64(4)"
      ]
     },
     "execution_count": 57,
     "metadata": {},
     "output_type": "execute_result"
    }
   ],
   "source": [
    "mental_state.at['Anxiety', 'Molly']"
   ]
  },
  {
   "cell_type": "code",
   "execution_count": 58,
   "id": "80a3f2953d11b3c",
   "metadata": {
    "ExecuteTime": {
     "end_time": "2025-02-25T12:43:19.554205Z",
     "start_time": "2025-02-25T12:43:19.552302Z"
    }
   },
   "outputs": [],
   "source": [
    "mental_state.iat[0, 4] = 8"
   ]
  },
  {
   "cell_type": "code",
   "execution_count": 59,
   "id": "248e7c88e5654715",
   "metadata": {
    "ExecuteTime": {
     "end_time": "2025-02-25T12:43:19.575355Z",
     "start_time": "2025-02-25T12:43:19.572631Z"
    }
   },
   "outputs": [
    {
     "data": {
      "text/plain": [
       "np.int64(8)"
      ]
     },
     "execution_count": 59,
     "metadata": {},
     "output_type": "execute_result"
    }
   ],
   "source": [
    "mental_state.iat[0, 4]"
   ]
  },
  {
   "cell_type": "code",
   "execution_count": 60,
   "id": "b06f89a7cc0ed795",
   "metadata": {
    "ExecuteTime": {
     "end_time": "2025-02-25T12:43:19.585802Z",
     "start_time": "2025-02-25T12:43:19.578551Z"
    }
   },
   "outputs": [
    {
     "data": {
      "text/html": [
       "<div>\n",
       "<style scoped>\n",
       "    .dataframe tbody tr th:only-of-type {\n",
       "        vertical-align: middle;\n",
       "    }\n",
       "\n",
       "    .dataframe tbody tr th {\n",
       "        vertical-align: top;\n",
       "    }\n",
       "\n",
       "    .dataframe thead th {\n",
       "        text-align: right;\n",
       "    }\n",
       "</style>\n",
       "<table border=\"1\" class=\"dataframe\">\n",
       "  <thead>\n",
       "    <tr style=\"text-align: right;\">\n",
       "      <th></th>\n",
       "      <th>Miles</th>\n",
       "      <th>Kevin</th>\n",
       "      <th>Molly</th>\n",
       "      <th>Kylie</th>\n",
       "      <th>Mark</th>\n",
       "    </tr>\n",
       "  </thead>\n",
       "  <tbody>\n",
       "    <tr>\n",
       "      <th>count</th>\n",
       "      <td>4.000000</td>\n",
       "      <td>4.000000</td>\n",
       "      <td>4.000000</td>\n",
       "      <td>4.000000</td>\n",
       "      <td>4.00000</td>\n",
       "    </tr>\n",
       "    <tr>\n",
       "      <th>mean</th>\n",
       "      <td>4.250000</td>\n",
       "      <td>5.750000</td>\n",
       "      <td>5.250000</td>\n",
       "      <td>3.750000</td>\n",
       "      <td>3.25000</td>\n",
       "    </tr>\n",
       "    <tr>\n",
       "      <th>std</th>\n",
       "      <td>3.095696</td>\n",
       "      <td>2.629956</td>\n",
       "      <td>4.272002</td>\n",
       "      <td>2.986079</td>\n",
       "      <td>3.40343</td>\n",
       "    </tr>\n",
       "    <tr>\n",
       "      <th>min</th>\n",
       "      <td>0.000000</td>\n",
       "      <td>3.000000</td>\n",
       "      <td>0.000000</td>\n",
       "      <td>0.000000</td>\n",
       "      <td>0.00000</td>\n",
       "    </tr>\n",
       "    <tr>\n",
       "      <th>25%</th>\n",
       "      <td>3.000000</td>\n",
       "      <td>3.750000</td>\n",
       "      <td>3.000000</td>\n",
       "      <td>2.250000</td>\n",
       "      <td>1.50000</td>\n",
       "    </tr>\n",
       "    <tr>\n",
       "      <th>50%</th>\n",
       "      <td>5.000000</td>\n",
       "      <td>6.000000</td>\n",
       "      <td>5.500000</td>\n",
       "      <td>4.000000</td>\n",
       "      <td>2.50000</td>\n",
       "    </tr>\n",
       "    <tr>\n",
       "      <th>75%</th>\n",
       "      <td>6.250000</td>\n",
       "      <td>8.000000</td>\n",
       "      <td>7.750000</td>\n",
       "      <td>5.500000</td>\n",
       "      <td>4.25000</td>\n",
       "    </tr>\n",
       "    <tr>\n",
       "      <th>max</th>\n",
       "      <td>7.000000</td>\n",
       "      <td>8.000000</td>\n",
       "      <td>10.000000</td>\n",
       "      <td>7.000000</td>\n",
       "      <td>8.00000</td>\n",
       "    </tr>\n",
       "  </tbody>\n",
       "</table>\n",
       "</div>"
      ],
      "text/plain": [
       "          Miles     Kevin      Molly     Kylie     Mark\n",
       "count  4.000000  4.000000   4.000000  4.000000  4.00000\n",
       "mean   4.250000  5.750000   5.250000  3.750000  3.25000\n",
       "std    3.095696  2.629956   4.272002  2.986079  3.40343\n",
       "min    0.000000  3.000000   0.000000  0.000000  0.00000\n",
       "25%    3.000000  3.750000   3.000000  2.250000  1.50000\n",
       "50%    5.000000  6.000000   5.500000  4.000000  2.50000\n",
       "75%    6.250000  8.000000   7.750000  5.500000  4.25000\n",
       "max    7.000000  8.000000  10.000000  7.000000  8.00000"
      ]
     },
     "execution_count": 60,
     "metadata": {},
     "output_type": "execute_result"
    }
   ],
   "source": [
    "mental_state.describe()"
   ]
  },
  {
   "cell_type": "code",
   "execution_count": 61,
   "id": "468f55a28690630f",
   "metadata": {
    "ExecuteTime": {
     "end_time": "2025-02-25T12:43:19.611461Z",
     "start_time": "2025-02-25T12:43:19.609661Z"
    }
   },
   "outputs": [],
   "source": [
    "pd.set_option('display.precision', 2)"
   ]
  },
  {
   "cell_type": "code",
   "execution_count": 62,
   "id": "8b50cd753891084e",
   "metadata": {
    "ExecuteTime": {
     "end_time": "2025-02-25T12:43:19.642201Z",
     "start_time": "2025-02-25T12:43:19.634822Z"
    }
   },
   "outputs": [
    {
     "data": {
      "text/html": [
       "<div>\n",
       "<style scoped>\n",
       "    .dataframe tbody tr th:only-of-type {\n",
       "        vertical-align: middle;\n",
       "    }\n",
       "\n",
       "    .dataframe tbody tr th {\n",
       "        vertical-align: top;\n",
       "    }\n",
       "\n",
       "    .dataframe thead th {\n",
       "        text-align: right;\n",
       "    }\n",
       "</style>\n",
       "<table border=\"1\" class=\"dataframe\">\n",
       "  <thead>\n",
       "    <tr style=\"text-align: right;\">\n",
       "      <th></th>\n",
       "      <th>Miles</th>\n",
       "      <th>Kevin</th>\n",
       "      <th>Molly</th>\n",
       "      <th>Kylie</th>\n",
       "      <th>Mark</th>\n",
       "    </tr>\n",
       "  </thead>\n",
       "  <tbody>\n",
       "    <tr>\n",
       "      <th>count</th>\n",
       "      <td>4.00</td>\n",
       "      <td>4.00</td>\n",
       "      <td>4.00</td>\n",
       "      <td>4.00</td>\n",
       "      <td>4.00</td>\n",
       "    </tr>\n",
       "    <tr>\n",
       "      <th>mean</th>\n",
       "      <td>4.25</td>\n",
       "      <td>5.75</td>\n",
       "      <td>5.25</td>\n",
       "      <td>3.75</td>\n",
       "      <td>3.25</td>\n",
       "    </tr>\n",
       "    <tr>\n",
       "      <th>std</th>\n",
       "      <td>3.10</td>\n",
       "      <td>2.63</td>\n",
       "      <td>4.27</td>\n",
       "      <td>2.99</td>\n",
       "      <td>3.40</td>\n",
       "    </tr>\n",
       "    <tr>\n",
       "      <th>min</th>\n",
       "      <td>0.00</td>\n",
       "      <td>3.00</td>\n",
       "      <td>0.00</td>\n",
       "      <td>0.00</td>\n",
       "      <td>0.00</td>\n",
       "    </tr>\n",
       "    <tr>\n",
       "      <th>25%</th>\n",
       "      <td>3.00</td>\n",
       "      <td>3.75</td>\n",
       "      <td>3.00</td>\n",
       "      <td>2.25</td>\n",
       "      <td>1.50</td>\n",
       "    </tr>\n",
       "    <tr>\n",
       "      <th>50%</th>\n",
       "      <td>5.00</td>\n",
       "      <td>6.00</td>\n",
       "      <td>5.50</td>\n",
       "      <td>4.00</td>\n",
       "      <td>2.50</td>\n",
       "    </tr>\n",
       "    <tr>\n",
       "      <th>75%</th>\n",
       "      <td>6.25</td>\n",
       "      <td>8.00</td>\n",
       "      <td>7.75</td>\n",
       "      <td>5.50</td>\n",
       "      <td>4.25</td>\n",
       "    </tr>\n",
       "    <tr>\n",
       "      <th>max</th>\n",
       "      <td>7.00</td>\n",
       "      <td>8.00</td>\n",
       "      <td>10.00</td>\n",
       "      <td>7.00</td>\n",
       "      <td>8.00</td>\n",
       "    </tr>\n",
       "  </tbody>\n",
       "</table>\n",
       "</div>"
      ],
      "text/plain": [
       "       Miles  Kevin  Molly  Kylie  Mark\n",
       "count   4.00   4.00   4.00   4.00  4.00\n",
       "mean    4.25   5.75   5.25   3.75  3.25\n",
       "std     3.10   2.63   4.27   2.99  3.40\n",
       "min     0.00   3.00   0.00   0.00  0.00\n",
       "25%     3.00   3.75   3.00   2.25  1.50\n",
       "50%     5.00   6.00   5.50   4.00  2.50\n",
       "75%     6.25   8.00   7.75   5.50  4.25\n",
       "max     7.00   8.00  10.00   7.00  8.00"
      ]
     },
     "execution_count": 62,
     "metadata": {},
     "output_type": "execute_result"
    }
   ],
   "source": [
    "mental_state.describe()"
   ]
  },
  {
   "cell_type": "code",
   "execution_count": 63,
   "id": "9945b339e7b01e8e",
   "metadata": {
    "ExecuteTime": {
     "end_time": "2025-02-25T12:43:19.685974Z",
     "start_time": "2025-02-25T12:43:19.682448Z"
    }
   },
   "outputs": [
    {
     "data": {
      "text/plain": [
       "Miles    4.25\n",
       "Kevin    5.75\n",
       "Molly    5.25\n",
       "Kylie    3.75\n",
       "Mark     3.25\n",
       "dtype: float64"
      ]
     },
     "execution_count": 63,
     "metadata": {},
     "output_type": "execute_result"
    }
   ],
   "source": [
    "mental_state.mean()"
   ]
  },
  {
   "cell_type": "code",
   "execution_count": 64,
   "id": "70c0f6e2de51f6a9",
   "metadata": {
    "ExecuteTime": {
     "end_time": "2025-02-25T12:43:19.730816Z",
     "start_time": "2025-02-25T12:43:19.727236Z"
    }
   },
   "outputs": [
    {
     "data": {
      "text/html": [
       "<div>\n",
       "<style scoped>\n",
       "    .dataframe tbody tr th:only-of-type {\n",
       "        vertical-align: middle;\n",
       "    }\n",
       "\n",
       "    .dataframe tbody tr th {\n",
       "        vertical-align: top;\n",
       "    }\n",
       "\n",
       "    .dataframe thead th {\n",
       "        text-align: right;\n",
       "    }\n",
       "</style>\n",
       "<table border=\"1\" class=\"dataframe\">\n",
       "  <thead>\n",
       "    <tr style=\"text-align: right;\">\n",
       "      <th></th>\n",
       "      <th>Anxiety</th>\n",
       "      <th>Depression</th>\n",
       "      <th>Insomnia</th>\n",
       "      <th>OCD</th>\n",
       "    </tr>\n",
       "  </thead>\n",
       "  <tbody>\n",
       "    <tr>\n",
       "      <th>Miles</th>\n",
       "      <td>6</td>\n",
       "      <td>4</td>\n",
       "      <td>7</td>\n",
       "      <td>0</td>\n",
       "    </tr>\n",
       "    <tr>\n",
       "      <th>Kevin</th>\n",
       "      <td>8</td>\n",
       "      <td>8</td>\n",
       "      <td>4</td>\n",
       "      <td>3</td>\n",
       "    </tr>\n",
       "    <tr>\n",
       "      <th>Molly</th>\n",
       "      <td>4</td>\n",
       "      <td>7</td>\n",
       "      <td>10</td>\n",
       "      <td>0</td>\n",
       "    </tr>\n",
       "    <tr>\n",
       "      <th>Kylie</th>\n",
       "      <td>7</td>\n",
       "      <td>5</td>\n",
       "      <td>0</td>\n",
       "      <td>3</td>\n",
       "    </tr>\n",
       "    <tr>\n",
       "      <th>Mark</th>\n",
       "      <td>8</td>\n",
       "      <td>3</td>\n",
       "      <td>0</td>\n",
       "      <td>2</td>\n",
       "    </tr>\n",
       "  </tbody>\n",
       "</table>\n",
       "</div>"
      ],
      "text/plain": [
       "       Anxiety  Depression  Insomnia  OCD\n",
       "Miles        6           4         7    0\n",
       "Kevin        8           8         4    3\n",
       "Molly        4           7        10    0\n",
       "Kylie        7           5         0    3\n",
       "Mark         8           3         0    2"
      ]
     },
     "execution_count": 64,
     "metadata": {},
     "output_type": "execute_result"
    }
   ],
   "source": [
    "mental_state.T"
   ]
  },
  {
   "cell_type": "code",
   "execution_count": 65,
   "id": "9b0f8e48d03d235",
   "metadata": {
    "ExecuteTime": {
     "end_time": "2025-02-25T12:43:19.793988Z",
     "start_time": "2025-02-25T12:43:19.788153Z"
    }
   },
   "outputs": [
    {
     "data": {
      "text/html": [
       "<div>\n",
       "<style scoped>\n",
       "    .dataframe tbody tr th:only-of-type {\n",
       "        vertical-align: middle;\n",
       "    }\n",
       "\n",
       "    .dataframe tbody tr th {\n",
       "        vertical-align: top;\n",
       "    }\n",
       "\n",
       "    .dataframe thead th {\n",
       "        text-align: right;\n",
       "    }\n",
       "</style>\n",
       "<table border=\"1\" class=\"dataframe\">\n",
       "  <thead>\n",
       "    <tr style=\"text-align: right;\">\n",
       "      <th></th>\n",
       "      <th>Anxiety</th>\n",
       "      <th>Depression</th>\n",
       "      <th>Insomnia</th>\n",
       "      <th>OCD</th>\n",
       "    </tr>\n",
       "  </thead>\n",
       "  <tbody>\n",
       "    <tr>\n",
       "      <th>count</th>\n",
       "      <td>5.00</td>\n",
       "      <td>5.00</td>\n",
       "      <td>5.00</td>\n",
       "      <td>5.00</td>\n",
       "    </tr>\n",
       "    <tr>\n",
       "      <th>mean</th>\n",
       "      <td>6.60</td>\n",
       "      <td>5.40</td>\n",
       "      <td>4.20</td>\n",
       "      <td>1.60</td>\n",
       "    </tr>\n",
       "    <tr>\n",
       "      <th>std</th>\n",
       "      <td>1.67</td>\n",
       "      <td>2.07</td>\n",
       "      <td>4.38</td>\n",
       "      <td>1.52</td>\n",
       "    </tr>\n",
       "    <tr>\n",
       "      <th>min</th>\n",
       "      <td>4.00</td>\n",
       "      <td>3.00</td>\n",
       "      <td>0.00</td>\n",
       "      <td>0.00</td>\n",
       "    </tr>\n",
       "    <tr>\n",
       "      <th>25%</th>\n",
       "      <td>6.00</td>\n",
       "      <td>4.00</td>\n",
       "      <td>0.00</td>\n",
       "      <td>0.00</td>\n",
       "    </tr>\n",
       "    <tr>\n",
       "      <th>50%</th>\n",
       "      <td>7.00</td>\n",
       "      <td>5.00</td>\n",
       "      <td>4.00</td>\n",
       "      <td>2.00</td>\n",
       "    </tr>\n",
       "    <tr>\n",
       "      <th>75%</th>\n",
       "      <td>8.00</td>\n",
       "      <td>7.00</td>\n",
       "      <td>7.00</td>\n",
       "      <td>3.00</td>\n",
       "    </tr>\n",
       "    <tr>\n",
       "      <th>max</th>\n",
       "      <td>8.00</td>\n",
       "      <td>8.00</td>\n",
       "      <td>10.00</td>\n",
       "      <td>3.00</td>\n",
       "    </tr>\n",
       "  </tbody>\n",
       "</table>\n",
       "</div>"
      ],
      "text/plain": [
       "       Anxiety  Depression  Insomnia   OCD\n",
       "count     5.00        5.00      5.00  5.00\n",
       "mean      6.60        5.40      4.20  1.60\n",
       "std       1.67        2.07      4.38  1.52\n",
       "min       4.00        3.00      0.00  0.00\n",
       "25%       6.00        4.00      0.00  0.00\n",
       "50%       7.00        5.00      4.00  2.00\n",
       "75%       8.00        7.00      7.00  3.00\n",
       "max       8.00        8.00     10.00  3.00"
      ]
     },
     "execution_count": 65,
     "metadata": {},
     "output_type": "execute_result"
    }
   ],
   "source": [
    "mental_state.T.describe()"
   ]
  },
  {
   "cell_type": "code",
   "execution_count": 66,
   "id": "9687a5d88b5d69e0",
   "metadata": {
    "ExecuteTime": {
     "end_time": "2025-02-25T12:43:19.867256Z",
     "start_time": "2025-02-25T12:43:19.864051Z"
    }
   },
   "outputs": [
    {
     "data": {
      "text/plain": [
       "Anxiety       6.6\n",
       "Depression    5.4\n",
       "Insomnia      4.2\n",
       "OCD           1.6\n",
       "dtype: float64"
      ]
     },
     "execution_count": 66,
     "metadata": {},
     "output_type": "execute_result"
    }
   ],
   "source": [
    "mental_state.T.mean()"
   ]
  },
  {
   "cell_type": "code",
   "execution_count": 67,
   "id": "b4922fcfb4182268",
   "metadata": {
    "ExecuteTime": {
     "end_time": "2025-02-25T12:43:19.933721Z",
     "start_time": "2025-02-25T12:43:19.930131Z"
    }
   },
   "outputs": [
    {
     "data": {
      "text/html": [
       "<div>\n",
       "<style scoped>\n",
       "    .dataframe tbody tr th:only-of-type {\n",
       "        vertical-align: middle;\n",
       "    }\n",
       "\n",
       "    .dataframe tbody tr th {\n",
       "        vertical-align: top;\n",
       "    }\n",
       "\n",
       "    .dataframe thead th {\n",
       "        text-align: right;\n",
       "    }\n",
       "</style>\n",
       "<table border=\"1\" class=\"dataframe\">\n",
       "  <thead>\n",
       "    <tr style=\"text-align: right;\">\n",
       "      <th></th>\n",
       "      <th>Miles</th>\n",
       "      <th>Kevin</th>\n",
       "      <th>Molly</th>\n",
       "      <th>Kylie</th>\n",
       "      <th>Mark</th>\n",
       "    </tr>\n",
       "  </thead>\n",
       "  <tbody>\n",
       "    <tr>\n",
       "      <th>OCD</th>\n",
       "      <td>0</td>\n",
       "      <td>3</td>\n",
       "      <td>0</td>\n",
       "      <td>3</td>\n",
       "      <td>2</td>\n",
       "    </tr>\n",
       "    <tr>\n",
       "      <th>Insomnia</th>\n",
       "      <td>7</td>\n",
       "      <td>4</td>\n",
       "      <td>10</td>\n",
       "      <td>0</td>\n",
       "      <td>0</td>\n",
       "    </tr>\n",
       "    <tr>\n",
       "      <th>Depression</th>\n",
       "      <td>4</td>\n",
       "      <td>8</td>\n",
       "      <td>7</td>\n",
       "      <td>5</td>\n",
       "      <td>3</td>\n",
       "    </tr>\n",
       "    <tr>\n",
       "      <th>Anxiety</th>\n",
       "      <td>6</td>\n",
       "      <td>8</td>\n",
       "      <td>4</td>\n",
       "      <td>7</td>\n",
       "      <td>8</td>\n",
       "    </tr>\n",
       "  </tbody>\n",
       "</table>\n",
       "</div>"
      ],
      "text/plain": [
       "            Miles  Kevin  Molly  Kylie  Mark\n",
       "OCD             0      3      0      3     2\n",
       "Insomnia        7      4     10      0     0\n",
       "Depression      4      8      7      5     3\n",
       "Anxiety         6      8      4      7     8"
      ]
     },
     "execution_count": 67,
     "metadata": {},
     "output_type": "execute_result"
    }
   ],
   "source": [
    "mental_state.sort_index(ascending=False)"
   ]
  },
  {
   "cell_type": "code",
   "execution_count": 68,
   "id": "b1c391f2588a3295",
   "metadata": {
    "ExecuteTime": {
     "end_time": "2025-02-25T12:43:20.003257Z",
     "start_time": "2025-02-25T12:43:19.999842Z"
    }
   },
   "outputs": [
    {
     "data": {
      "text/html": [
       "<div>\n",
       "<style scoped>\n",
       "    .dataframe tbody tr th:only-of-type {\n",
       "        vertical-align: middle;\n",
       "    }\n",
       "\n",
       "    .dataframe tbody tr th {\n",
       "        vertical-align: top;\n",
       "    }\n",
       "\n",
       "    .dataframe thead th {\n",
       "        text-align: right;\n",
       "    }\n",
       "</style>\n",
       "<table border=\"1\" class=\"dataframe\">\n",
       "  <thead>\n",
       "    <tr style=\"text-align: right;\">\n",
       "      <th></th>\n",
       "      <th>Kevin</th>\n",
       "      <th>Kylie</th>\n",
       "      <th>Mark</th>\n",
       "      <th>Miles</th>\n",
       "      <th>Molly</th>\n",
       "    </tr>\n",
       "  </thead>\n",
       "  <tbody>\n",
       "    <tr>\n",
       "      <th>Anxiety</th>\n",
       "      <td>8</td>\n",
       "      <td>7</td>\n",
       "      <td>8</td>\n",
       "      <td>6</td>\n",
       "      <td>4</td>\n",
       "    </tr>\n",
       "    <tr>\n",
       "      <th>Depression</th>\n",
       "      <td>8</td>\n",
       "      <td>5</td>\n",
       "      <td>3</td>\n",
       "      <td>4</td>\n",
       "      <td>7</td>\n",
       "    </tr>\n",
       "    <tr>\n",
       "      <th>Insomnia</th>\n",
       "      <td>4</td>\n",
       "      <td>0</td>\n",
       "      <td>0</td>\n",
       "      <td>7</td>\n",
       "      <td>10</td>\n",
       "    </tr>\n",
       "    <tr>\n",
       "      <th>OCD</th>\n",
       "      <td>3</td>\n",
       "      <td>3</td>\n",
       "      <td>2</td>\n",
       "      <td>0</td>\n",
       "      <td>0</td>\n",
       "    </tr>\n",
       "  </tbody>\n",
       "</table>\n",
       "</div>"
      ],
      "text/plain": [
       "            Kevin  Kylie  Mark  Miles  Molly\n",
       "Anxiety         8      7     8      6      4\n",
       "Depression      8      5     3      4      7\n",
       "Insomnia        4      0     0      7     10\n",
       "OCD             3      3     2      0      0"
      ]
     },
     "execution_count": 68,
     "metadata": {},
     "output_type": "execute_result"
    }
   ],
   "source": [
    "mental_state.sort_index(axis=1)"
   ]
  },
  {
   "cell_type": "code",
   "execution_count": 69,
   "id": "62d370887a441538",
   "metadata": {
    "ExecuteTime": {
     "end_time": "2025-02-25T12:43:20.119799Z",
     "start_time": "2025-02-25T12:43:20.116238Z"
    }
   },
   "outputs": [
    {
     "data": {
      "text/html": [
       "<div>\n",
       "<style scoped>\n",
       "    .dataframe tbody tr th:only-of-type {\n",
       "        vertical-align: middle;\n",
       "    }\n",
       "\n",
       "    .dataframe tbody tr th {\n",
       "        vertical-align: top;\n",
       "    }\n",
       "\n",
       "    .dataframe thead th {\n",
       "        text-align: right;\n",
       "    }\n",
       "</style>\n",
       "<table border=\"1\" class=\"dataframe\">\n",
       "  <thead>\n",
       "    <tr style=\"text-align: right;\">\n",
       "      <th></th>\n",
       "      <th>Molly</th>\n",
       "      <th>Miles</th>\n",
       "      <th>Kevin</th>\n",
       "      <th>Kylie</th>\n",
       "      <th>Mark</th>\n",
       "    </tr>\n",
       "  </thead>\n",
       "  <tbody>\n",
       "    <tr>\n",
       "      <th>Anxiety</th>\n",
       "      <td>4</td>\n",
       "      <td>6</td>\n",
       "      <td>8</td>\n",
       "      <td>7</td>\n",
       "      <td>8</td>\n",
       "    </tr>\n",
       "    <tr>\n",
       "      <th>Depression</th>\n",
       "      <td>7</td>\n",
       "      <td>4</td>\n",
       "      <td>8</td>\n",
       "      <td>5</td>\n",
       "      <td>3</td>\n",
       "    </tr>\n",
       "    <tr>\n",
       "      <th>Insomnia</th>\n",
       "      <td>10</td>\n",
       "      <td>7</td>\n",
       "      <td>4</td>\n",
       "      <td>0</td>\n",
       "      <td>0</td>\n",
       "    </tr>\n",
       "    <tr>\n",
       "      <th>OCD</th>\n",
       "      <td>0</td>\n",
       "      <td>0</td>\n",
       "      <td>3</td>\n",
       "      <td>3</td>\n",
       "      <td>2</td>\n",
       "    </tr>\n",
       "  </tbody>\n",
       "</table>\n",
       "</div>"
      ],
      "text/plain": [
       "            Molly  Miles  Kevin  Kylie  Mark\n",
       "Anxiety         4      6      8      7     8\n",
       "Depression      7      4      8      5     3\n",
       "Insomnia       10      7      4      0     0\n",
       "OCD             0      0      3      3     2"
      ]
     },
     "execution_count": 69,
     "metadata": {},
     "output_type": "execute_result"
    }
   ],
   "source": [
    "mental_state.sort_values(by='Insomnia', axis=1, ascending=False)"
   ]
  },
  {
   "cell_type": "code",
   "execution_count": 70,
   "id": "b170875a1a041a3e",
   "metadata": {
    "ExecuteTime": {
     "end_time": "2025-02-25T12:43:20.176852Z",
     "start_time": "2025-02-25T12:43:20.173235Z"
    }
   },
   "outputs": [
    {
     "data": {
      "text/html": [
       "<div>\n",
       "<style scoped>\n",
       "    .dataframe tbody tr th:only-of-type {\n",
       "        vertical-align: middle;\n",
       "    }\n",
       "\n",
       "    .dataframe tbody tr th {\n",
       "        vertical-align: top;\n",
       "    }\n",
       "\n",
       "    .dataframe thead th {\n",
       "        text-align: right;\n",
       "    }\n",
       "</style>\n",
       "<table border=\"1\" class=\"dataframe\">\n",
       "  <thead>\n",
       "    <tr style=\"text-align: right;\">\n",
       "      <th></th>\n",
       "      <th>Anxiety</th>\n",
       "      <th>Depression</th>\n",
       "      <th>Insomnia</th>\n",
       "      <th>OCD</th>\n",
       "    </tr>\n",
       "  </thead>\n",
       "  <tbody>\n",
       "    <tr>\n",
       "      <th>Kevin</th>\n",
       "      <td>8</td>\n",
       "      <td>8</td>\n",
       "      <td>4</td>\n",
       "      <td>3</td>\n",
       "    </tr>\n",
       "    <tr>\n",
       "      <th>Mark</th>\n",
       "      <td>8</td>\n",
       "      <td>3</td>\n",
       "      <td>0</td>\n",
       "      <td>2</td>\n",
       "    </tr>\n",
       "    <tr>\n",
       "      <th>Kylie</th>\n",
       "      <td>7</td>\n",
       "      <td>5</td>\n",
       "      <td>0</td>\n",
       "      <td>3</td>\n",
       "    </tr>\n",
       "    <tr>\n",
       "      <th>Miles</th>\n",
       "      <td>6</td>\n",
       "      <td>4</td>\n",
       "      <td>7</td>\n",
       "      <td>0</td>\n",
       "    </tr>\n",
       "    <tr>\n",
       "      <th>Molly</th>\n",
       "      <td>4</td>\n",
       "      <td>7</td>\n",
       "      <td>10</td>\n",
       "      <td>0</td>\n",
       "    </tr>\n",
       "  </tbody>\n",
       "</table>\n",
       "</div>"
      ],
      "text/plain": [
       "       Anxiety  Depression  Insomnia  OCD\n",
       "Kevin        8           8         4    3\n",
       "Mark         8           3         0    2\n",
       "Kylie        7           5         0    3\n",
       "Miles        6           4         7    0\n",
       "Molly        4           7        10    0"
      ]
     },
     "execution_count": 70,
     "metadata": {},
     "output_type": "execute_result"
    }
   ],
   "source": [
    "mental_state.T.sort_values(by='Anxiety', ascending=False)"
   ]
  },
  {
   "cell_type": "code",
   "execution_count": 71,
   "id": "3101c06e59eda227",
   "metadata": {
    "ExecuteTime": {
     "end_time": "2025-02-25T12:43:20.242043Z",
     "start_time": "2025-02-25T12:43:20.239221Z"
    }
   },
   "outputs": [
    {
     "data": {
      "text/plain": [
       "Kevin    3\n",
       "Kylie    3\n",
       "Mark     2\n",
       "Miles    0\n",
       "Molly    0\n",
       "Name: OCD, dtype: int64"
      ]
     },
     "execution_count": 71,
     "metadata": {},
     "output_type": "execute_result"
    }
   ],
   "source": [
    "mental_state.loc['OCD'].sort_values(ascending=False)"
   ]
  },
  {
   "cell_type": "code",
   "execution_count": 72,
   "id": "21001d9c04df5ccc",
   "metadata": {
    "ExecuteTime": {
     "end_time": "2025-02-25T12:43:20.314205Z",
     "start_time": "2025-02-25T12:43:20.310550Z"
    }
   },
   "outputs": [
    {
     "data": {
      "text/html": [
       "<div>\n",
       "<style scoped>\n",
       "    .dataframe tbody tr th:only-of-type {\n",
       "        vertical-align: middle;\n",
       "    }\n",
       "\n",
       "    .dataframe tbody tr th {\n",
       "        vertical-align: top;\n",
       "    }\n",
       "\n",
       "    .dataframe thead th {\n",
       "        text-align: right;\n",
       "    }\n",
       "</style>\n",
       "<table border=\"1\" class=\"dataframe\">\n",
       "  <thead>\n",
       "    <tr style=\"text-align: right;\">\n",
       "      <th></th>\n",
       "      <th>Miles</th>\n",
       "      <th>Kevin</th>\n",
       "      <th>Molly</th>\n",
       "      <th>Kylie</th>\n",
       "      <th>Mark</th>\n",
       "    </tr>\n",
       "  </thead>\n",
       "  <tbody>\n",
       "    <tr>\n",
       "      <th>Anxiety</th>\n",
       "      <td>6</td>\n",
       "      <td>8</td>\n",
       "      <td>4</td>\n",
       "      <td>7</td>\n",
       "      <td>8</td>\n",
       "    </tr>\n",
       "    <tr>\n",
       "      <th>Depression</th>\n",
       "      <td>4</td>\n",
       "      <td>8</td>\n",
       "      <td>7</td>\n",
       "      <td>5</td>\n",
       "      <td>3</td>\n",
       "    </tr>\n",
       "    <tr>\n",
       "      <th>Insomnia</th>\n",
       "      <td>7</td>\n",
       "      <td>4</td>\n",
       "      <td>10</td>\n",
       "      <td>0</td>\n",
       "      <td>0</td>\n",
       "    </tr>\n",
       "    <tr>\n",
       "      <th>OCD</th>\n",
       "      <td>0</td>\n",
       "      <td>3</td>\n",
       "      <td>0</td>\n",
       "      <td>3</td>\n",
       "      <td>2</td>\n",
       "    </tr>\n",
       "  </tbody>\n",
       "</table>\n",
       "</div>"
      ],
      "text/plain": [
       "            Miles  Kevin  Molly  Kylie  Mark\n",
       "Anxiety         6      8      4      7     8\n",
       "Depression      4      8      7      5     3\n",
       "Insomnia        7      4     10      0     0\n",
       "OCD             0      3      0      3     2"
      ]
     },
     "execution_count": 72,
     "metadata": {},
     "output_type": "execute_result"
    }
   ],
   "source": [
    "mental_state"
   ]
  },
  {
   "cell_type": "code",
   "execution_count": 73,
   "id": "bde8ff6923f980d2",
   "metadata": {
    "ExecuteTime": {
     "end_time": "2025-02-25T12:43:20.379646Z",
     "start_time": "2025-02-25T12:43:20.377224Z"
    }
   },
   "outputs": [],
   "source": [
    "mental_state.sort_values(by='Miles', ascending=False, inplace=True)"
   ]
  },
  {
   "cell_type": "code",
   "execution_count": 74,
   "id": "4b6934627ca5443e",
   "metadata": {
    "ExecuteTime": {
     "end_time": "2025-02-25T12:43:20.447882Z",
     "start_time": "2025-02-25T12:43:20.444518Z"
    }
   },
   "outputs": [
    {
     "data": {
      "text/html": [
       "<div>\n",
       "<style scoped>\n",
       "    .dataframe tbody tr th:only-of-type {\n",
       "        vertical-align: middle;\n",
       "    }\n",
       "\n",
       "    .dataframe tbody tr th {\n",
       "        vertical-align: top;\n",
       "    }\n",
       "\n",
       "    .dataframe thead th {\n",
       "        text-align: right;\n",
       "    }\n",
       "</style>\n",
       "<table border=\"1\" class=\"dataframe\">\n",
       "  <thead>\n",
       "    <tr style=\"text-align: right;\">\n",
       "      <th></th>\n",
       "      <th>Miles</th>\n",
       "      <th>Kevin</th>\n",
       "      <th>Molly</th>\n",
       "      <th>Kylie</th>\n",
       "      <th>Mark</th>\n",
       "    </tr>\n",
       "  </thead>\n",
       "  <tbody>\n",
       "    <tr>\n",
       "      <th>Insomnia</th>\n",
       "      <td>7</td>\n",
       "      <td>4</td>\n",
       "      <td>10</td>\n",
       "      <td>0</td>\n",
       "      <td>0</td>\n",
       "    </tr>\n",
       "    <tr>\n",
       "      <th>Anxiety</th>\n",
       "      <td>6</td>\n",
       "      <td>8</td>\n",
       "      <td>4</td>\n",
       "      <td>7</td>\n",
       "      <td>8</td>\n",
       "    </tr>\n",
       "    <tr>\n",
       "      <th>Depression</th>\n",
       "      <td>4</td>\n",
       "      <td>8</td>\n",
       "      <td>7</td>\n",
       "      <td>5</td>\n",
       "      <td>3</td>\n",
       "    </tr>\n",
       "    <tr>\n",
       "      <th>OCD</th>\n",
       "      <td>0</td>\n",
       "      <td>3</td>\n",
       "      <td>0</td>\n",
       "      <td>3</td>\n",
       "      <td>2</td>\n",
       "    </tr>\n",
       "  </tbody>\n",
       "</table>\n",
       "</div>"
      ],
      "text/plain": [
       "            Miles  Kevin  Molly  Kylie  Mark\n",
       "Insomnia        7      4     10      0     0\n",
       "Anxiety         6      8      4      7     8\n",
       "Depression      4      8      7      5     3\n",
       "OCD             0      3      0      3     2"
      ]
     },
     "execution_count": 74,
     "metadata": {},
     "output_type": "execute_result"
    }
   ],
   "source": [
    "mental_state"
   ]
  },
  {
   "cell_type": "code",
   "execution_count": 75,
   "id": "eed7af4778fe390c",
   "metadata": {
    "ExecuteTime": {
     "end_time": "2025-02-25T12:43:20.670859Z",
     "start_time": "2025-02-25T12:43:20.494690Z"
    }
   },
   "outputs": [],
   "source": [
    "titanic = pd.read_csv('https://vincentarelbundock.github.io/Rdatasets/csv/carData/TitanicSurvival.csv')"
   ]
  },
  {
   "cell_type": "code",
   "execution_count": 76,
   "id": "f968e63a2671da27",
   "metadata": {
    "ExecuteTime": {
     "end_time": "2025-02-25T12:43:20.690516Z",
     "start_time": "2025-02-25T12:43:20.688711Z"
    }
   },
   "outputs": [],
   "source": [
    "pd.set_option('display.precision', 2)"
   ]
  },
  {
   "cell_type": "code",
   "execution_count": 77,
   "id": "b0af15b1d15f929b",
   "metadata": {
    "ExecuteTime": {
     "end_time": "2025-02-25T12:43:20.704194Z",
     "start_time": "2025-02-25T12:43:20.700506Z"
    }
   },
   "outputs": [
    {
     "data": {
      "text/html": [
       "<div>\n",
       "<style scoped>\n",
       "    .dataframe tbody tr th:only-of-type {\n",
       "        vertical-align: middle;\n",
       "    }\n",
       "\n",
       "    .dataframe tbody tr th {\n",
       "        vertical-align: top;\n",
       "    }\n",
       "\n",
       "    .dataframe thead th {\n",
       "        text-align: right;\n",
       "    }\n",
       "</style>\n",
       "<table border=\"1\" class=\"dataframe\">\n",
       "  <thead>\n",
       "    <tr style=\"text-align: right;\">\n",
       "      <th></th>\n",
       "      <th>rownames</th>\n",
       "      <th>survived</th>\n",
       "      <th>sex</th>\n",
       "      <th>age</th>\n",
       "      <th>passengerClass</th>\n",
       "    </tr>\n",
       "  </thead>\n",
       "  <tbody>\n",
       "    <tr>\n",
       "      <th>0</th>\n",
       "      <td>Allen, Miss. Elisabeth Walton</td>\n",
       "      <td>yes</td>\n",
       "      <td>female</td>\n",
       "      <td>29.00</td>\n",
       "      <td>1st</td>\n",
       "    </tr>\n",
       "    <tr>\n",
       "      <th>1</th>\n",
       "      <td>Allison, Master. Hudson Trevor</td>\n",
       "      <td>yes</td>\n",
       "      <td>male</td>\n",
       "      <td>0.92</td>\n",
       "      <td>1st</td>\n",
       "    </tr>\n",
       "    <tr>\n",
       "      <th>2</th>\n",
       "      <td>Allison, Miss. Helen Loraine</td>\n",
       "      <td>no</td>\n",
       "      <td>female</td>\n",
       "      <td>2.00</td>\n",
       "      <td>1st</td>\n",
       "    </tr>\n",
       "    <tr>\n",
       "      <th>3</th>\n",
       "      <td>Allison, Mr. Hudson Joshua Crei</td>\n",
       "      <td>no</td>\n",
       "      <td>male</td>\n",
       "      <td>30.00</td>\n",
       "      <td>1st</td>\n",
       "    </tr>\n",
       "    <tr>\n",
       "      <th>4</th>\n",
       "      <td>Allison, Mrs. Hudson J C (Bessi</td>\n",
       "      <td>no</td>\n",
       "      <td>female</td>\n",
       "      <td>25.00</td>\n",
       "      <td>1st</td>\n",
       "    </tr>\n",
       "  </tbody>\n",
       "</table>\n",
       "</div>"
      ],
      "text/plain": [
       "                          rownames survived     sex    age passengerClass\n",
       "0    Allen, Miss. Elisabeth Walton      yes  female  29.00            1st\n",
       "1   Allison, Master. Hudson Trevor      yes    male   0.92            1st\n",
       "2     Allison, Miss. Helen Loraine       no  female   2.00            1st\n",
       "3  Allison, Mr. Hudson Joshua Crei       no    male  30.00            1st\n",
       "4  Allison, Mrs. Hudson J C (Bessi       no  female  25.00            1st"
      ]
     },
     "execution_count": 77,
     "metadata": {},
     "output_type": "execute_result"
    }
   ],
   "source": [
    "titanic.head()"
   ]
  },
  {
   "cell_type": "code",
   "execution_count": 78,
   "id": "226ba853c3ca1cdb",
   "metadata": {
    "ExecuteTime": {
     "end_time": "2025-02-25T12:43:20.740168Z",
     "start_time": "2025-02-25T12:43:20.736367Z"
    }
   },
   "outputs": [
    {
     "data": {
      "text/html": [
       "<div>\n",
       "<style scoped>\n",
       "    .dataframe tbody tr th:only-of-type {\n",
       "        vertical-align: middle;\n",
       "    }\n",
       "\n",
       "    .dataframe tbody tr th {\n",
       "        vertical-align: top;\n",
       "    }\n",
       "\n",
       "    .dataframe thead th {\n",
       "        text-align: right;\n",
       "    }\n",
       "</style>\n",
       "<table border=\"1\" class=\"dataframe\">\n",
       "  <thead>\n",
       "    <tr style=\"text-align: right;\">\n",
       "      <th></th>\n",
       "      <th>rownames</th>\n",
       "      <th>survived</th>\n",
       "      <th>sex</th>\n",
       "      <th>age</th>\n",
       "      <th>passengerClass</th>\n",
       "    </tr>\n",
       "  </thead>\n",
       "  <tbody>\n",
       "    <tr>\n",
       "      <th>1304</th>\n",
       "      <td>Zabour, Miss. Hileni</td>\n",
       "      <td>no</td>\n",
       "      <td>female</td>\n",
       "      <td>14.5</td>\n",
       "      <td>3rd</td>\n",
       "    </tr>\n",
       "    <tr>\n",
       "      <th>1305</th>\n",
       "      <td>Zabour, Miss. Thamine</td>\n",
       "      <td>no</td>\n",
       "      <td>female</td>\n",
       "      <td>NaN</td>\n",
       "      <td>3rd</td>\n",
       "    </tr>\n",
       "    <tr>\n",
       "      <th>1306</th>\n",
       "      <td>Zakarian, Mr. Mapriededer</td>\n",
       "      <td>no</td>\n",
       "      <td>male</td>\n",
       "      <td>26.5</td>\n",
       "      <td>3rd</td>\n",
       "    </tr>\n",
       "    <tr>\n",
       "      <th>1307</th>\n",
       "      <td>Zakarian, Mr. Ortin</td>\n",
       "      <td>no</td>\n",
       "      <td>male</td>\n",
       "      <td>27.0</td>\n",
       "      <td>3rd</td>\n",
       "    </tr>\n",
       "    <tr>\n",
       "      <th>1308</th>\n",
       "      <td>Zimmerman, Mr. Leo</td>\n",
       "      <td>no</td>\n",
       "      <td>male</td>\n",
       "      <td>29.0</td>\n",
       "      <td>3rd</td>\n",
       "    </tr>\n",
       "  </tbody>\n",
       "</table>\n",
       "</div>"
      ],
      "text/plain": [
       "                       rownames survived     sex   age passengerClass\n",
       "1304       Zabour, Miss. Hileni       no  female  14.5            3rd\n",
       "1305      Zabour, Miss. Thamine       no  female   NaN            3rd\n",
       "1306  Zakarian, Mr. Mapriededer       no    male  26.5            3rd\n",
       "1307        Zakarian, Mr. Ortin       no    male  27.0            3rd\n",
       "1308         Zimmerman, Mr. Leo       no    male  29.0            3rd"
      ]
     },
     "execution_count": 78,
     "metadata": {},
     "output_type": "execute_result"
    }
   ],
   "source": [
    "titanic.tail()"
   ]
  },
  {
   "cell_type": "code",
   "execution_count": 79,
   "id": "c167bfac925e2424",
   "metadata": {
    "ExecuteTime": {
     "end_time": "2025-02-25T12:43:20.779060Z",
     "start_time": "2025-02-25T12:43:20.777345Z"
    }
   },
   "outputs": [],
   "source": [
    "titanic.columns = ['name', 'survived', 'sex', 'age', 'class']"
   ]
  },
  {
   "cell_type": "code",
   "execution_count": 80,
   "id": "8435b3cb0cf9b774",
   "metadata": {
    "ExecuteTime": {
     "end_time": "2025-02-25T12:43:20.833548Z",
     "start_time": "2025-02-25T12:43:20.829614Z"
    }
   },
   "outputs": [
    {
     "data": {
      "text/html": [
       "<div>\n",
       "<style scoped>\n",
       "    .dataframe tbody tr th:only-of-type {\n",
       "        vertical-align: middle;\n",
       "    }\n",
       "\n",
       "    .dataframe tbody tr th {\n",
       "        vertical-align: top;\n",
       "    }\n",
       "\n",
       "    .dataframe thead th {\n",
       "        text-align: right;\n",
       "    }\n",
       "</style>\n",
       "<table border=\"1\" class=\"dataframe\">\n",
       "  <thead>\n",
       "    <tr style=\"text-align: right;\">\n",
       "      <th></th>\n",
       "      <th>name</th>\n",
       "      <th>survived</th>\n",
       "      <th>sex</th>\n",
       "      <th>age</th>\n",
       "      <th>class</th>\n",
       "    </tr>\n",
       "  </thead>\n",
       "  <tbody>\n",
       "    <tr>\n",
       "      <th>0</th>\n",
       "      <td>Allen, Miss. Elisabeth Walton</td>\n",
       "      <td>yes</td>\n",
       "      <td>female</td>\n",
       "      <td>29.00</td>\n",
       "      <td>1st</td>\n",
       "    </tr>\n",
       "    <tr>\n",
       "      <th>1</th>\n",
       "      <td>Allison, Master. Hudson Trevor</td>\n",
       "      <td>yes</td>\n",
       "      <td>male</td>\n",
       "      <td>0.92</td>\n",
       "      <td>1st</td>\n",
       "    </tr>\n",
       "    <tr>\n",
       "      <th>2</th>\n",
       "      <td>Allison, Miss. Helen Loraine</td>\n",
       "      <td>no</td>\n",
       "      <td>female</td>\n",
       "      <td>2.00</td>\n",
       "      <td>1st</td>\n",
       "    </tr>\n",
       "    <tr>\n",
       "      <th>3</th>\n",
       "      <td>Allison, Mr. Hudson Joshua Crei</td>\n",
       "      <td>no</td>\n",
       "      <td>male</td>\n",
       "      <td>30.00</td>\n",
       "      <td>1st</td>\n",
       "    </tr>\n",
       "    <tr>\n",
       "      <th>4</th>\n",
       "      <td>Allison, Mrs. Hudson J C (Bessi</td>\n",
       "      <td>no</td>\n",
       "      <td>female</td>\n",
       "      <td>25.00</td>\n",
       "      <td>1st</td>\n",
       "    </tr>\n",
       "  </tbody>\n",
       "</table>\n",
       "</div>"
      ],
      "text/plain": [
       "                              name survived     sex    age class\n",
       "0    Allen, Miss. Elisabeth Walton      yes  female  29.00   1st\n",
       "1   Allison, Master. Hudson Trevor      yes    male   0.92   1st\n",
       "2     Allison, Miss. Helen Loraine       no  female   2.00   1st\n",
       "3  Allison, Mr. Hudson Joshua Crei       no    male  30.00   1st\n",
       "4  Allison, Mrs. Hudson J C (Bessi       no  female  25.00   1st"
      ]
     },
     "execution_count": 80,
     "metadata": {},
     "output_type": "execute_result"
    }
   ],
   "source": [
    "titanic.head()"
   ]
  },
  {
   "cell_type": "code",
   "execution_count": 81,
   "id": "d21b0afc488a6319",
   "metadata": {
    "ExecuteTime": {
     "end_time": "2025-02-25T12:43:20.880785Z",
     "start_time": "2025-02-25T12:43:20.876389Z"
    }
   },
   "outputs": [
    {
     "data": {
      "text/html": [
       "<div>\n",
       "<style scoped>\n",
       "    .dataframe tbody tr th:only-of-type {\n",
       "        vertical-align: middle;\n",
       "    }\n",
       "\n",
       "    .dataframe tbody tr th {\n",
       "        vertical-align: top;\n",
       "    }\n",
       "\n",
       "    .dataframe thead th {\n",
       "        text-align: right;\n",
       "    }\n",
       "</style>\n",
       "<table border=\"1\" class=\"dataframe\">\n",
       "  <thead>\n",
       "    <tr style=\"text-align: right;\">\n",
       "      <th></th>\n",
       "      <th>name</th>\n",
       "      <th>survived</th>\n",
       "      <th>sex</th>\n",
       "      <th>age</th>\n",
       "      <th>class</th>\n",
       "    </tr>\n",
       "  </thead>\n",
       "  <tbody>\n",
       "    <tr>\n",
       "      <th>763</th>\n",
       "      <td>Dean, Miss. Elizabeth Gladys M</td>\n",
       "      <td>yes</td>\n",
       "      <td>female</td>\n",
       "      <td>0.17</td>\n",
       "      <td>3rd</td>\n",
       "    </tr>\n",
       "  </tbody>\n",
       "</table>\n",
       "</div>"
      ],
      "text/plain": [
       "                               name survived     sex   age class\n",
       "763  Dean, Miss. Elizabeth Gladys M      yes  female  0.17   3rd"
      ]
     },
     "execution_count": 81,
     "metadata": {},
     "output_type": "execute_result"
    }
   ],
   "source": [
    "titanic.loc[titanic.age == titanic.age.min()]"
   ]
  },
  {
   "cell_type": "code",
   "execution_count": 82,
   "id": "deecf6eb41d81751",
   "metadata": {
    "ExecuteTime": {
     "end_time": "2025-02-25T12:43:20.932880Z",
     "start_time": "2025-02-25T12:43:20.928997Z"
    }
   },
   "outputs": [
    {
     "data": {
      "text/html": [
       "<div>\n",
       "<style scoped>\n",
       "    .dataframe tbody tr th:only-of-type {\n",
       "        vertical-align: middle;\n",
       "    }\n",
       "\n",
       "    .dataframe tbody tr th {\n",
       "        vertical-align: top;\n",
       "    }\n",
       "\n",
       "    .dataframe thead th {\n",
       "        text-align: right;\n",
       "    }\n",
       "</style>\n",
       "<table border=\"1\" class=\"dataframe\">\n",
       "  <thead>\n",
       "    <tr style=\"text-align: right;\">\n",
       "      <th></th>\n",
       "      <th>name</th>\n",
       "      <th>survived</th>\n",
       "      <th>sex</th>\n",
       "      <th>age</th>\n",
       "      <th>class</th>\n",
       "    </tr>\n",
       "  </thead>\n",
       "  <tbody>\n",
       "    <tr>\n",
       "      <th>14</th>\n",
       "      <td>Barkworth, Mr. Algernon Henry W</td>\n",
       "      <td>yes</td>\n",
       "      <td>male</td>\n",
       "      <td>80.0</td>\n",
       "      <td>1st</td>\n",
       "    </tr>\n",
       "  </tbody>\n",
       "</table>\n",
       "</div>"
      ],
      "text/plain": [
       "                               name survived   sex   age class\n",
       "14  Barkworth, Mr. Algernon Henry W      yes  male  80.0   1st"
      ]
     },
     "execution_count": 82,
     "metadata": {},
     "output_type": "execute_result"
    }
   ],
   "source": [
    "titanic.loc[titanic.age == titanic.age.max()]"
   ]
  },
  {
   "cell_type": "code",
   "execution_count": 83,
   "id": "84ec9151b91cc38b",
   "metadata": {
    "ExecuteTime": {
     "end_time": "2025-02-25T12:43:21.019570Z",
     "start_time": "2025-02-25T12:43:21.017133Z"
    }
   },
   "outputs": [
    {
     "data": {
      "text/plain": [
       "np.float64(29.881134512434034)"
      ]
     },
     "execution_count": 83,
     "metadata": {},
     "output_type": "execute_result"
    }
   ],
   "source": [
    "titanic.age.mean()"
   ]
  },
  {
   "cell_type": "code",
   "execution_count": 84,
   "id": "181d3c115d038658",
   "metadata": {
    "ExecuteTime": {
     "end_time": "2025-02-25T12:43:21.136510Z",
     "start_time": "2025-02-25T12:43:21.131930Z"
    }
   },
   "outputs": [
    {
     "data": {
      "text/html": [
       "<div>\n",
       "<style scoped>\n",
       "    .dataframe tbody tr th:only-of-type {\n",
       "        vertical-align: middle;\n",
       "    }\n",
       "\n",
       "    .dataframe tbody tr th {\n",
       "        vertical-align: top;\n",
       "    }\n",
       "\n",
       "    .dataframe thead th {\n",
       "        text-align: right;\n",
       "    }\n",
       "</style>\n",
       "<table border=\"1\" class=\"dataframe\">\n",
       "  <thead>\n",
       "    <tr style=\"text-align: right;\">\n",
       "      <th></th>\n",
       "      <th>age</th>\n",
       "    </tr>\n",
       "  </thead>\n",
       "  <tbody>\n",
       "    <tr>\n",
       "      <th>count</th>\n",
       "      <td>427.00</td>\n",
       "    </tr>\n",
       "    <tr>\n",
       "      <th>mean</th>\n",
       "      <td>28.92</td>\n",
       "    </tr>\n",
       "    <tr>\n",
       "      <th>std</th>\n",
       "      <td>15.06</td>\n",
       "    </tr>\n",
       "    <tr>\n",
       "      <th>min</th>\n",
       "      <td>0.17</td>\n",
       "    </tr>\n",
       "    <tr>\n",
       "      <th>25%</th>\n",
       "      <td>20.00</td>\n",
       "    </tr>\n",
       "    <tr>\n",
       "      <th>50%</th>\n",
       "      <td>28.00</td>\n",
       "    </tr>\n",
       "    <tr>\n",
       "      <th>75%</th>\n",
       "      <td>38.00</td>\n",
       "    </tr>\n",
       "    <tr>\n",
       "      <th>max</th>\n",
       "      <td>80.00</td>\n",
       "    </tr>\n",
       "  </tbody>\n",
       "</table>\n",
       "</div>"
      ],
      "text/plain": [
       "          age\n",
       "count  427.00\n",
       "mean    28.92\n",
       "std     15.06\n",
       "min      0.17\n",
       "25%     20.00\n",
       "50%     28.00\n",
       "75%     38.00\n",
       "max     80.00"
      ]
     },
     "execution_count": 84,
     "metadata": {},
     "output_type": "execute_result"
    }
   ],
   "source": [
    "titanic[titanic.survived == 'yes'].describe()"
   ]
  },
  {
   "cell_type": "code",
   "execution_count": 85,
   "id": "fd49285c760dae57",
   "metadata": {
    "ExecuteTime": {
     "end_time": "2025-02-25T12:43:21.218483Z",
     "start_time": "2025-02-25T12:43:21.216346Z"
    }
   },
   "outputs": [],
   "source": [
    "women_first_class = titanic[(titanic[\"sex\"] == \"female\") & (titanic[\"class\"] == \"1st\")]"
   ]
  },
  {
   "cell_type": "code",
   "execution_count": 86,
   "id": "b3502a77ba3efba3",
   "metadata": {
    "ExecuteTime": {
     "end_time": "2025-02-25T12:43:21.286843Z",
     "start_time": "2025-02-25T12:43:21.282647Z"
    }
   },
   "outputs": [
    {
     "data": {
      "text/html": [
       "<div>\n",
       "<style scoped>\n",
       "    .dataframe tbody tr th:only-of-type {\n",
       "        vertical-align: middle;\n",
       "    }\n",
       "\n",
       "    .dataframe tbody tr th {\n",
       "        vertical-align: top;\n",
       "    }\n",
       "\n",
       "    .dataframe thead th {\n",
       "        text-align: right;\n",
       "    }\n",
       "</style>\n",
       "<table border=\"1\" class=\"dataframe\">\n",
       "  <thead>\n",
       "    <tr style=\"text-align: right;\">\n",
       "      <th></th>\n",
       "      <th>name</th>\n",
       "      <th>survived</th>\n",
       "      <th>sex</th>\n",
       "      <th>age</th>\n",
       "      <th>class</th>\n",
       "    </tr>\n",
       "  </thead>\n",
       "  <tbody>\n",
       "    <tr>\n",
       "      <th>2</th>\n",
       "      <td>Allison, Miss. Helen Loraine</td>\n",
       "      <td>no</td>\n",
       "      <td>female</td>\n",
       "      <td>2.0</td>\n",
       "      <td>1st</td>\n",
       "    </tr>\n",
       "  </tbody>\n",
       "</table>\n",
       "</div>"
      ],
      "text/plain": [
       "                           name survived     sex  age class\n",
       "2  Allison, Miss. Helen Loraine       no  female  2.0   1st"
      ]
     },
     "execution_count": 86,
     "metadata": {},
     "output_type": "execute_result"
    }
   ],
   "source": [
    "women_first_class.loc[women_first_class.age == women_first_class.age.min()]"
   ]
  },
  {
   "cell_type": "code",
   "execution_count": 87,
   "id": "e70a52b05152b09",
   "metadata": {
    "ExecuteTime": {
     "end_time": "2025-02-25T12:43:21.336022Z",
     "start_time": "2025-02-25T12:43:21.331924Z"
    }
   },
   "outputs": [
    {
     "data": {
      "text/html": [
       "<div>\n",
       "<style scoped>\n",
       "    .dataframe tbody tr th:only-of-type {\n",
       "        vertical-align: middle;\n",
       "    }\n",
       "\n",
       "    .dataframe tbody tr th {\n",
       "        vertical-align: top;\n",
       "    }\n",
       "\n",
       "    .dataframe thead th {\n",
       "        text-align: right;\n",
       "    }\n",
       "</style>\n",
       "<table border=\"1\" class=\"dataframe\">\n",
       "  <thead>\n",
       "    <tr style=\"text-align: right;\">\n",
       "      <th></th>\n",
       "      <th>name</th>\n",
       "      <th>survived</th>\n",
       "      <th>sex</th>\n",
       "      <th>age</th>\n",
       "      <th>class</th>\n",
       "    </tr>\n",
       "  </thead>\n",
       "  <tbody>\n",
       "    <tr>\n",
       "      <th>61</th>\n",
       "      <td>Cavendish, Mrs. Tyrell William</td>\n",
       "      <td>yes</td>\n",
       "      <td>female</td>\n",
       "      <td>76.0</td>\n",
       "      <td>1st</td>\n",
       "    </tr>\n",
       "  </tbody>\n",
       "</table>\n",
       "</div>"
      ],
      "text/plain": [
       "                              name survived     sex   age class\n",
       "61  Cavendish, Mrs. Tyrell William      yes  female  76.0   1st"
      ]
     },
     "execution_count": 87,
     "metadata": {},
     "output_type": "execute_result"
    }
   ],
   "source": [
    "women_first_class.loc[women_first_class.age == women_first_class.age.max()]"
   ]
  },
  {
   "cell_type": "code",
   "execution_count": 88,
   "id": "d4dfec3335e7ff38",
   "metadata": {
    "ExecuteTime": {
     "end_time": "2025-02-25T12:43:21.383592Z",
     "start_time": "2025-02-25T12:43:21.381136Z"
    }
   },
   "outputs": [
    {
     "data": {
      "text/plain": [
       "139"
      ]
     },
     "execution_count": 88,
     "metadata": {},
     "output_type": "execute_result"
    }
   ],
   "source": [
    "women_first_class[women_first_class[\"survived\"] == \"yes\"].shape[0]"
   ]
  },
  {
   "cell_type": "code",
   "execution_count": 89,
   "id": "3401e8c7af0dfbf9",
   "metadata": {
    "ExecuteTime": {
     "end_time": "2025-02-25T12:43:21.569729Z",
     "start_time": "2025-02-25T12:43:21.471679Z"
    }
   },
   "outputs": [
    {
     "data": {
      "image/png": "[encoded data removed]",
      "text/plain": [
       "<Figure size 640x480 with 1 Axes>"
      ]
     },
     "metadata": {},
     "output_type": "display_data"
    }
   ],
   "source": [
    "histogram = titanic.hist()"
   ]
  },
  {
   "cell_type": "code",
   "execution_count": 90,
   "id": "d2435d751d8ffba7",
   "metadata": {
    "ExecuteTime": {
     "end_time": "2025-02-25T13:14:57.703824Z",
     "start_time": "2025-02-25T13:14:57.526313Z"
    }
   },
   "outputs": [
    {
     "data": {
      "text/plain": [
       "<Axes: xlabel='age', ylabel='Count'>"
      ]
     },
     "execution_count": 90,
     "metadata": {},
     "output_type": "execute_result"
    },
    {
     "data": {
      "image/png": "[encoded data removed]",
      "text/plain": [
       "<Figure size 640x480 with 1 Axes>"
      ]
     },
     "metadata": {},
     "output_type": "display_data"
    }
   ],
   "source": [
    "sns.histplot(titanic, x=\"age\", hue=\"sex\", bins=30, kde=True, element=\"step\", stat=\"count\")"
   ]
  },
  {
   "cell_type": "code",
   "execution_count": null,
   "id": "f2aae8ddeb2cfe15",
   "metadata": {},
   "outputs": [],
   "source": []
  }
 ],
 "metadata": {
  "kernelspec": {
   "display_name": "Python 3 (ipykernel)",
   "language": "python",
   "name": "python3"
  },
  "language_info": {
   "codemirror_mode": {
    "name": "ipython",
    "version": 3
   },
   "file_extension": ".py",
   "mimetype": "text/x-python",
   "name": "python",
   "nbconvert_exporter": "python",
   "pygments_lexer": "ipython3",
   "version": "3.13.3"
  }
 },
 "nbformat": 4,
 "nbformat_minor": 5
}
